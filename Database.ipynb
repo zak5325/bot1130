{
 "cells": [
  {
   "cell_type": "markdown",
   "metadata": {},
   "source": [
    "## 資料庫連接 & CRUD\n",
    "\n",
    "*  RDB : MysQL\n",
    "*  NoSQL : MongoDB\n",
    "\n"
   ]
  },
  {
   "cell_type": "markdown",
   "metadata": {},
   "source": [
    "### 1. MysqL"
   ]
  },
  {
   "cell_type": "markdown",
   "metadata": {},
   "source": [
    "#### 1.0 安裝套件 -- mysqlclient\n",
    "\n",
    "* Python 2+ : pip install mysqlclient\n",
    "* Python 3+ : pip3 install mysqlclient"
   ]
  },
  {
   "cell_type": "markdown",
   "metadata": {},
   "source": [
    "#### 1.1 引用套件"
   ]
  },
  {
   "cell_type": "code",
   "execution_count": 5,
   "metadata": {},
   "outputs": [],
   "source": [
    "import MySQLdb"
   ]
  },
  {
   "cell_type": "markdown",
   "metadata": {},
   "source": [
    "#### 1.2 連接資料庫"
   ]
  },
  {
   "cell_type": "code",
   "execution_count": 7,
   "metadata": {},
   "outputs": [],
   "source": [
    "conn = MySQLdb.Connect(host=\"localhost\",user = \"root\",passwd =\"1qazxsw2\",db=\"demo\",charset=\"utf8\")"
   ]
  },
  {
   "cell_type": "markdown",
   "metadata": {},
   "source": [
    "#### 1.3 顯示資料表清單"
   ]
  },
  {
   "cell_type": "code",
   "execution_count": 15,
   "metadata": {},
   "outputs": [
    {
     "name": "stdout",
     "output_type": "stream",
     "text": [
      "(('EMPLOYEE',),)\n"
     ]
    }
   ],
   "source": [
    "cmd = conn.cursor()\n",
    "cmd.execute(\"Show TABLES\")\n",
    "r = cmd.fetchall()\n",
    "print(r)"
   ]
  },
  {
   "cell_type": "markdown",
   "metadata": {},
   "source": [
    "#### 1.4 創建資料表"
   ]
  },
  {
   "cell_type": "code",
   "execution_count": 9,
   "metadata": {},
   "outputs": [
    {
     "name": "stderr",
     "output_type": "stream",
     "text": [
      "/usr/local/lib/python3.5/dist-packages/ipykernel_launcher.py:11: Warning: (1050, \"Table 'EMPLOYEE' already exists\")\n",
      "  # This is added back by InteractiveShellApp.init_path()\n"
     ]
    },
    {
     "data": {
      "text/plain": [
       "0"
      ]
     },
     "execution_count": 9,
     "metadata": {},
     "output_type": "execute_result"
    }
   ],
   "source": [
    "sql = \"\"\"CREATE TABLE IF NOT EXISTS EMPLOYEE (\n",
    "         ID INTEGER NOT NULL AUTO_INCREMENT,\n",
    "         FIRST_NAME  CHAR(20) NOT NULL,\n",
    "         LAST_NAME  CHAR(20),\n",
    "         AGE INT,\n",
    "         SEX CHAR(1),\n",
    "         INCOME FLOAT,\n",
    "         COUNTRY VARCHAR(30),\n",
    "         PRIMARY KEY (ID))\"\"\"\n",
    "\n",
    "cmd.execute(sql)"
   ]
  },
  {
   "cell_type": "markdown",
   "metadata": {},
   "source": [
    "#### 1.5 新增資料"
   ]
  },
  {
   "cell_type": "code",
   "execution_count": 35,
   "metadata": {},
   "outputs": [
    {
     "name": "stdout",
     "output_type": "stream",
     "text": [
      "Insert Success\n"
     ]
    }
   ],
   "source": [
    "#新增一筆資料\n",
    "\n",
    "sql = \"\"\"INSERT INTO EMPLOYEE(FIRST_NAME,\n",
    "         LAST_NAME, AGE, SEX, INCOME,COUNTRY)\n",
    "         VALUES ('Lala', 'Lin', 35, 'M',80000,\"Taichung\")\"\"\"\n",
    "\n",
    "try:\n",
    "    cmd.execute(sql)\n",
    "    conn.commit()\n",
    "    print(\"Insert Success\")\n",
    "    \n",
    "except:   \n",
    "    conn.rollback()\n",
    "    print(\"Insert Error\")"
   ]
  },
  {
   "cell_type": "code",
   "execution_count": 36,
   "metadata": {},
   "outputs": [
    {
     "name": "stdout",
     "output_type": "stream",
     "text": [
      "3\n"
     ]
    }
   ],
   "source": [
    "#新增多筆資料\n",
    "\n",
    "sql = \"INSERT INTO EMPLOYEE VALUES(%s,%s,%s,%s,%s,%s,%s)\"\n",
    "print(cmd.executemany(sql,[\n",
    "    (0,'David', 'Yang', '45', 'M','55500','Taipei'),\n",
    "    (0,'Mark', 'Hu', '28', 'M','33500','Taipei'),\n",
    "    (0,'Carol', 'Chen', '25', 'F','42500','Taipei'),\n",
    "    ]))\n",
    "conn.commit()"
   ]
  },
  {
   "cell_type": "markdown",
   "metadata": {},
   "source": [
    "#### 1.6 查詢資料"
   ]
  },
  {
   "cell_type": "code",
   "execution_count": 38,
   "metadata": {},
   "outputs": [
    {
     "name": "stdout",
     "output_type": "stream",
     "text": [
      "fname=Lala,lname=Lin,age=35,sex=M,income=80000, country=Taichung\n",
      "fname=David,lname=Yang,age=45,sex=M,income=55500, country=Taipei\n",
      "fname=Mark,lname=Hu,age=28,sex=M,income=33500, country=Taipei\n",
      "fname=Carol,lname=Chen,age=25,sex=F,income=42500, country=Taipei\n"
     ]
    }
   ],
   "source": [
    "#一次將所有的查詢結果都取回後，再以迴圈輸出\n",
    "\n",
    "sql = \"SELECT * FROM EMPLOYEE\"\n",
    "\n",
    "try:\n",
    "    cmd.execute(sql)\n",
    "    results = cmd.fetchall()\n",
    "    for row in results:\n",
    "        pid = row[0]\n",
    "        fname = row[1]\n",
    "        lname = row[2]\n",
    "        age = row[3]\n",
    "        sex = row[4]\n",
    "        income = row[5]\n",
    "        country= row[6]\n",
    "        print(\"fname=%s,lname=%s,age=%d,sex=%s,income=%d, country=%s\" %(fname, lname, age, sex, income,country ))\n",
    "        #print(\"fname=%s,lname=%s,age=%d,sex=%s,income=%d\" %(fname, lname, age, sex, income ))\n",
    "    \n",
    "except:\n",
    "    print(\"Error: unable to fecth data\")"
   ]
  },
  {
   "cell_type": "code",
   "execution_count": 49,
   "metadata": {},
   "outputs": [
    {
     "name": "stdout",
     "output_type": "stream",
     "text": [
      "3\n",
      "fname=Lala,lname=Lin,age=32,sex=M,income=80000, country=Taichung\n",
      "fname=Mark,lname=Hu,age=28,sex=M,income=33500, country=Taipei\n",
      "fname=Carol,lname=Chen,age=25,sex=F,income=42500, country=Taipei\n"
     ]
    }
   ],
   "source": [
    "#一次只取回一筆查詢結果，這種方式在處理大量資料時，可以節省記憶體空間\n",
    "\n",
    "sql = \"SELECT * FROM EMPLOYEE\"\n",
    "cmd.execute(sql)\n",
    "    \n",
    "try:\n",
    "    cmd.execute(sql)\n",
    "    \n",
    "    rowsCount = cmd.rowcount\n",
    "    print(rowsCount)\n",
    "    \n",
    "    for i in range(0,rowsCount):\n",
    "        record = cmd.fetchone()\n",
    "        pid = record[0]\n",
    "        fname = record[1]\n",
    "        lname = record[2]\n",
    "        age = record[3]\n",
    "        sex = record[4]\n",
    "        income = record[5]\n",
    "        country= record[6]\n",
    "\n",
    "        print(\"fname=%s,lname=%s,age=%d,sex=%s,income=%d, country=%s\" %(fname, lname, age, sex, income,country ))\n",
    "        \n",
    "except:\n",
    "    print(\"Error: unable to fecth data\")\n"
   ]
  },
  {
   "cell_type": "markdown",
   "metadata": {},
   "source": [
    "#### 1.7 更新資料"
   ]
  },
  {
   "cell_type": "code",
   "execution_count": 44,
   "metadata": {},
   "outputs": [],
   "source": [
    "sql = \"UPDATE EMPLOYEE SET AGE ='32' WHERE FIRST_NAME ='Lala'\"\n",
    "cmd.execute(sql)\n",
    "conn.commit()"
   ]
  },
  {
   "cell_type": "markdown",
   "metadata": {},
   "source": [
    "#### 1.8 刪除資料"
   ]
  },
  {
   "cell_type": "code",
   "execution_count": 48,
   "metadata": {},
   "outputs": [
    {
     "name": "stdout",
     "output_type": "stream",
     "text": [
      "((9, 'Lala', 'Lin', 32, 'M', 80000.0, 'Taichung'), (11, 'Mark', 'Hu', 28, 'M', 33500.0, 'Taipei'), (12, 'Carol', 'Chen', 25, 'F', 42500.0, 'Taipei'))\n"
     ]
    }
   ],
   "source": [
    "sql = \"DELETE FROM EMPLOYEE WHERE AGE >= '%d'\" % (40)\n",
    "#print(sql)\n",
    "\n",
    "#sql = \"DELETE FROM EMPLOYEE\"\n",
    "\n",
    "try:\n",
    "    \n",
    "    cmd.execute(sql)\n",
    "    conn.commit()\n",
    "    \n",
    "    sql = \"SELECT * FROM EMPLOYEE\"\n",
    "    cmd.execute(sql)\n",
    "  \n",
    "    print( cmd.fetchall())   \n",
    "    #print( cmd.fetchmany(2))      \n",
    "    #print( cmd.fetchone())\n",
    "    \n",
    "except:\n",
    "    conn.rollback()"
   ]
  },
  {
   "cell_type": "markdown",
   "metadata": {},
   "source": [
    "### 2. MongoDB\n",
    "\n",
    "\n",
    "* Start MongoDB service :  sudo service mongod start\n",
    "* run command : mongo"
   ]
  },
  {
   "cell_type": "markdown",
   "metadata": {},
   "source": [
    "#### 2.0 安裝套件 -- pymongo\n",
    "* Python 2+ : pip install pymongo\n",
    "* Python 3+ : pip3 install pymongo"
   ]
  },
  {
   "cell_type": "markdown",
   "metadata": {},
   "source": [
    "#### 2.1 引用套件"
   ]
  },
  {
   "cell_type": "code",
   "execution_count": 5,
   "metadata": {},
   "outputs": [],
   "source": [
    "import pymongo"
   ]
  },
  {
   "cell_type": "markdown",
   "metadata": {},
   "source": [
    "#### 2.2 連接資料庫"
   ]
  },
  {
   "cell_type": "code",
   "execution_count": 6,
   "metadata": {},
   "outputs": [],
   "source": [
    "myclient = pymongo.MongoClient(\"mongodb://localhost:27017/\")\n",
    "mydb = myclient[\"demo\"]"
   ]
  },
  {
   "cell_type": "code",
   "execution_count": 9,
   "metadata": {},
   "outputs": [
    {
     "name": "stdout",
     "output_type": "stream",
     "text": [
      "DB 不存在！\n"
     ]
    }
   ],
   "source": [
    "dblist = myclient.list_database_names() #讀取資料庫清單\n",
    "if \"demo\" in dblist:\n",
    "    print(\"DB 已存在！\")\n",
    "else:\n",
    "    print(\"DB 不存在！\")\n",
    "   "
   ]
  },
  {
   "cell_type": "markdown",
   "metadata": {},
   "source": [
    "#### 2.3 插入資料"
   ]
  },
  {
   "cell_type": "code",
   "execution_count": 18,
   "metadata": {},
   "outputs": [],
   "source": [
    "mycol = mydb[\"Movie\"]"
   ]
  },
  {
   "cell_type": "code",
   "execution_count": 11,
   "metadata": {},
   "outputs": [
    {
     "name": "stdout",
     "output_type": "stream",
     "text": [
      "5c04e13cf4e8330a563b83b7\n"
     ]
    }
   ],
   "source": [
    "# 插入一筆資料\n",
    "\n",
    "mydict = {\"name\":\"Star Wars I\", \"year\":\"1977\"}\n",
    "\n",
    "x = mycol.insert_one(mydict)\n",
    "\n",
    "print(x.inserted_id)"
   ]
  },
  {
   "cell_type": "code",
   "execution_count": 20,
   "metadata": {},
   "outputs": [
    {
     "name": "stdout",
     "output_type": "stream",
     "text": [
      "[ObjectId('5c04e412f4e8330a563b83be'), ObjectId('5c04e412f4e8330a563b83bf'), ObjectId('5c04e412f4e8330a563b83c0'), ObjectId('5c04e412f4e8330a563b83c1'), ObjectId('5c04e412f4e8330a563b83c2'), ObjectId('5c04e412f4e8330a563b83c3')]\n"
     ]
    }
   ],
   "source": [
    "# 插入多筆資料\n",
    "\n",
    "mylist = [\n",
    "  {\"name\":\"Star Wars II\", \"year\":\"1980\"}, \n",
    "  {\"name\":\"Star Wars III\", \"year\":\"1983\"}, \n",
    "  {\"name\":\"Star Wars IV\", \"year\":\"1986\"}, \n",
    "  {\"name\":\"Star Wars V\", \"year\":\"1990\"}, \n",
    "  {\"name\":\"Star Wars VI\", \"year\":\"1993\"}, \n",
    "  {\"name\":\"Star Wars VII\", \"year\":\"1996\"}\n",
    "]\n",
    " \n",
    "x = mycol.insert_many(mylist)\n",
    "\n",
    "print(x.inserted_ids)"
   ]
  },
  {
   "cell_type": "code",
   "execution_count": 21,
   "metadata": {},
   "outputs": [
    {
     "name": "stdout",
     "output_type": "stream",
     "text": [
      "[8, 9, 10]\n"
     ]
    }
   ],
   "source": [
    "# 插入多筆資料並指定id\n",
    "mylist = [\n",
    "  { \"_id\":8, \"name\":\"Star Wars VIII\", \"year\":\"1999\"},\n",
    "  { \"_id\":9, \"name\":\"Star Wars IX\", \"year\":\"2002\"},\n",
    "  { \"_id\":10, \"name\":\"Star Wars X\", \"year\":\"2005\"}\n",
    "]\n",
    " \n",
    "x = mycol.insert_many(mylist)\n",
    "print(x.inserted_ids)"
   ]
  },
  {
   "cell_type": "markdown",
   "metadata": {},
   "source": [
    "#### 2.4 查詢資料"
   ]
  },
  {
   "cell_type": "code",
   "execution_count": 22,
   "metadata": {},
   "outputs": [
    {
     "name": "stdout",
     "output_type": "stream",
     "text": [
      "{'_id': ObjectId('5c04e13cf4e8330a563b83b7'), 'name': 'Star Wars I', 'year': '1977'}\n"
     ]
    }
   ],
   "source": [
    "# 回傳一筆資料\n",
    "x = mycol.find_one() \n",
    "print(x)"
   ]
  },
  {
   "cell_type": "code",
   "execution_count": 23,
   "metadata": {},
   "outputs": [
    {
     "name": "stdout",
     "output_type": "stream",
     "text": [
      "{'_id': ObjectId('5c04e13cf4e8330a563b83b7'), 'name': 'Star Wars I', 'year': '1977'}\n",
      "{'_id': ObjectId('5c04e412f4e8330a563b83be'), 'name': 'Star Wars II', 'year': '1980'}\n",
      "{'_id': ObjectId('5c04e412f4e8330a563b83bf'), 'name': 'Star Wars III', 'year': '1983'}\n",
      "{'_id': ObjectId('5c04e412f4e8330a563b83c0'), 'name': 'Star Wars IV', 'year': '1986'}\n",
      "{'_id': ObjectId('5c04e412f4e8330a563b83c1'), 'name': 'Star Wars V', 'year': '1990'}\n",
      "{'_id': ObjectId('5c04e412f4e8330a563b83c2'), 'name': 'Star Wars VI', 'year': '1993'}\n",
      "{'_id': ObjectId('5c04e412f4e8330a563b83c3'), 'name': 'Star Wars VII', 'year': '1996'}\n",
      "{'_id': 8, 'name': 'Star Wars VIII', 'year': '1999'}\n",
      "{'_id': 9, 'name': 'Star Wars IX', 'year': '2002'}\n",
      "{'_id': 10, 'name': 'Star Wars X', 'year': '2005'}\n"
     ]
    }
   ],
   "source": [
    "# 回傳多筆資料\n",
    "data = mycol.find()\n",
    "for x in data :\n",
    "    print(x)"
   ]
  },
  {
   "cell_type": "code",
   "execution_count": null,
   "metadata": {},
   "outputs": [],
   "source": []
  }
 ],
 "metadata": {
  "kernelspec": {
   "display_name": "Python 3",
   "language": "python",
   "name": "python3"
  },
  "language_info": {
   "codemirror_mode": {
    "name": "ipython",
    "version": 3
   },
   "file_extension": ".py",
   "mimetype": "text/x-python",
   "name": "python",
   "nbconvert_exporter": "python",
   "pygments_lexer": "ipython3",
   "version": "3.5.2"
  }
 },
 "nbformat": 4,
 "nbformat_minor": 2
}
