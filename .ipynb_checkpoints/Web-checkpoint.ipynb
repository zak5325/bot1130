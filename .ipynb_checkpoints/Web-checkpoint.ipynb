{
 "cells": [
  {
   "cell_type": "markdown",
   "metadata": {},
   "source": [
    "### 網頁解析 & 自動化測試套件\n",
    "* Beautiful Soup\n",
    "* Selenium"
   ]
  },
  {
   "cell_type": "markdown",
   "metadata": {},
   "source": [
    "### 1. Beautiful Soup"
   ]
  },
  {
   "cell_type": "markdown",
   "metadata": {},
   "source": [
    "#### 1.1 安裝套件\n",
    "* Python 2+ : pip install beautifulsoup4\n",
    "* Python 3+ : pip3 install beautifulsoup4"
   ]
  },
  {
   "cell_type": "markdown",
   "metadata": {},
   "source": [
    "#### 1.2 引用 Beautiful Soup 模組"
   ]
  },
  {
   "cell_type": "code",
   "execution_count": 2,
   "metadata": {
    "collapsed": true
   },
   "outputs": [],
   "source": [
    "from bs4 import BeautifulSoup"
   ]
  },
  {
   "cell_type": "markdown",
   "metadata": {},
   "source": [
    "#### 1.3 使用Beautiful Soup 解析網頁"
   ]
  },
  {
   "cell_type": "code",
   "execution_count": 5,
   "metadata": {
    "collapsed": true
   },
   "outputs": [],
   "source": [
    "html_doc = \"\"\"\n",
    "<html><head><title>Hello World</title>\n",
    "\n",
    "<style>\n",
    "    .large {\n",
    "      color:blue;\n",
    "      text-align: center;\n",
    "    }\n",
    "</style>\n",
    "\n",
    "</head>\n",
    "<body><h2>Test Header</h2>\n",
    "<p>This is a test.</p>\n",
    "<a id=\"link1\" href=\"https://www.google.com.tw\"> Google網站</a>\n",
    "<a id=\"link2\" class=\"large\" href=\"https://www.facebook.com.tw\">FaceBook</a>\n",
    "<p>Hello, <b id=\"link1\" class=\"boldtext\">Bold Text</b></p>\n",
    "</body></html>\n",
    "\"\"\""
   ]
  },
  {
   "cell_type": "code",
   "execution_count": 7,
   "metadata": {
    "collapsed": true
   },
   "outputs": [],
   "source": [
    "# 以 Beautiful Soup 解析 HTML 程式碼\n",
    "\n",
    "soup = BeautifulSoup(html_doc, 'html.parser')\n",
    "#soup = BeautifulSoup(open('data/A.html'), 'html.parser')\n"
   ]
  },
  {
   "cell_type": "code",
   "execution_count": 11,
   "metadata": {},
   "outputs": [
    {
     "name": "stdout",
     "output_type": "stream",
     "text": [
      "<html>\n",
      " <head>\n",
      "  <title>\n",
      "   Hello World\n",
      "  </title>\n",
      "  <style>\n",
      "   .large {\n",
      "      color:blue;\n",
      "      text-align: center;\n",
      "    }\n",
      "  </style>\n",
      " </head>\n",
      " <body>\n",
      "  <h2>\n",
      "   Test Header\n",
      "  </h2>\n",
      "  <p>\n",
      "   This is a test.\n",
      "  </p>\n",
      "  <a href=\"https://www.google.com.tw\" id=\"link1\">\n",
      "   Google網站\n",
      "  </a>\n",
      "  <a class=\"large\" href=\"https://www.facebook.com.tw\" id=\"link2\">\n",
      "   FaceBook\n",
      "  </a>\n",
      "  <p>\n",
      "   Hello,\n",
      "   <b class=\"boldtext\" id=\"link1\">\n",
      "    Bold Text\n",
      "   </b>\n",
      "  </p>\n",
      " </body>\n",
      "</html>\n",
      "\n"
     ]
    }
   ],
   "source": [
    "#將soup物件美化\n",
    "print(soup.prettify())"
   ]
  },
  {
   "cell_type": "code",
   "execution_count": 10,
   "metadata": {},
   "outputs": [
    {
     "data": {
      "text/plain": [
       "<html><head><title>Hello World</title>\n",
       "<style>\n",
       "    .large {\n",
       "      color:blue;\n",
       "      text-align: center;\n",
       "    }\n",
       "</style>\n",
       "</head>\n",
       "<body><h2>Test Header</h2>\n",
       "<p>This is a test.</p>\n",
       "<a href=\"https://www.google.com.tw\" id=\"link1\"> Google網站</a>\n",
       "<a class=\"large\" href=\"https://www.facebook.com.tw\" id=\"link2\">FaceBook</a>\n",
       "<p>Hello, <b class=\"boldtext\" id=\"link1\">Bold Text</b></p>\n",
       "</body></html>"
      ]
     },
     "execution_count": 10,
     "metadata": {},
     "output_type": "execute_result"
    }
   ],
   "source": [
    "soup.html"
   ]
  },
  {
   "cell_type": "markdown",
   "metadata": {},
   "source": [
    "#### 1.4 解析網頁結構"
   ]
  },
  {
   "cell_type": "code",
   "execution_count": null,
   "metadata": {
    "collapsed": true
   },
   "outputs": [],
   "source": [
    "# Head tag "
   ]
  },
  {
   "cell_type": "code",
   "execution_count": 20,
   "metadata": {},
   "outputs": [
    {
     "data": {
      "text/plain": [
       "<head><title>Hello World</title>\n",
       "<style>\n",
       "    .large {\n",
       "      color:blue;\n",
       "      text-align: center;\n",
       "    }\n",
       "</style>\n",
       "</head>"
      ]
     },
     "execution_count": 20,
     "metadata": {},
     "output_type": "execute_result"
    }
   ],
   "source": [
    "soup.head"
   ]
  },
  {
   "cell_type": "code",
   "execution_count": 29,
   "metadata": {},
   "outputs": [
    {
     "data": {
      "text/plain": [
       "'Hello World\\n\\n    .large {\\n      color:blue;\\n      text-align: center;\\n    }\\n\\n'"
      ]
     },
     "execution_count": 29,
     "metadata": {},
     "output_type": "execute_result"
    }
   ],
   "source": [
    "soup.head.text"
   ]
  },
  {
   "cell_type": "code",
   "execution_count": null,
   "metadata": {
    "collapsed": true
   },
   "outputs": [],
   "source": [
    "# Title tag "
   ]
  },
  {
   "cell_type": "code",
   "execution_count": 13,
   "metadata": {},
   "outputs": [
    {
     "data": {
      "text/plain": [
       "<title>Hello World</title>"
      ]
     },
     "execution_count": 13,
     "metadata": {},
     "output_type": "execute_result"
    }
   ],
   "source": [
    "soup.title"
   ]
  },
  {
   "cell_type": "code",
   "execution_count": 19,
   "metadata": {},
   "outputs": [
    {
     "data": {
      "text/plain": [
       "'Hello World'"
      ]
     },
     "execution_count": 19,
     "metadata": {},
     "output_type": "execute_result"
    }
   ],
   "source": [
    "soup.title.text\n",
    "#soup.title.string"
   ]
  },
  {
   "cell_type": "code",
   "execution_count": 32,
   "metadata": {},
   "outputs": [
    {
     "data": {
      "text/plain": [
       "<body><h2>Test Header</h2>\n",
       "<p>This is a test.</p>\n",
       "<a href=\"https://www.google.com.tw\" id=\"link1\"> Google網站</a>\n",
       "<a class=\"large\" href=\"https://www.facebook.com.tw\" id=\"link2\">FaceBook</a>\n",
       "<p>Hello, <b class=\"boldtext\" id=\"link1\">Bold Text</b></p>\n",
       "</body>"
      ]
     },
     "execution_count": 32,
     "metadata": {},
     "output_type": "execute_result"
    }
   ],
   "source": [
    "# body tag \n",
    "soup.body"
   ]
  },
  {
   "cell_type": "code",
   "execution_count": 31,
   "metadata": {},
   "outputs": [
    {
     "data": {
      "text/plain": [
       "'Test Header\\nThis is a test.\\n Google網站\\nFaceBook\\nHello, Bold Text\\n'"
      ]
     },
     "execution_count": 31,
     "metadata": {},
     "output_type": "execute_result"
    }
   ],
   "source": [
    "soup.body.text"
   ]
  },
  {
   "cell_type": "code",
   "execution_count": 94,
   "metadata": {},
   "outputs": [
    {
     "data": {
      "text/plain": [
       "'https://www.google.com.tw'"
      ]
     },
     "execution_count": 94,
     "metadata": {},
     "output_type": "execute_result"
    }
   ],
   "source": [
    "soup.body.a['href']"
   ]
  },
  {
   "cell_type": "code",
   "execution_count": 38,
   "metadata": {},
   "outputs": [
    {
     "data": {
      "text/plain": [
       "<a href=\"https://www.google.com.tw\" id=\"link1\"> Google網站</a>"
      ]
     },
     "execution_count": 38,
     "metadata": {},
     "output_type": "execute_result"
    }
   ],
   "source": [
    "# a tag \n",
    "soup.a"
   ]
  },
  {
   "cell_type": "code",
   "execution_count": 37,
   "metadata": {},
   "outputs": [
    {
     "data": {
      "text/plain": [
       "' Google網站'"
      ]
     },
     "execution_count": 37,
     "metadata": {},
     "output_type": "execute_result"
    }
   ],
   "source": [
    "soup.a.text\n",
    "#soup.a.string"
   ]
  },
  {
   "cell_type": "code",
   "execution_count": 88,
   "metadata": {},
   "outputs": [
    {
     "data": {
      "text/plain": [
       "'https://www.google.com.tw'"
      ]
     },
     "execution_count": 88,
     "metadata": {},
     "output_type": "execute_result"
    }
   ],
   "source": [
    "soup.a['href']"
   ]
  },
  {
   "cell_type": "code",
   "execution_count": 40,
   "metadata": {},
   "outputs": [
    {
     "data": {
      "text/plain": [
       "<p>This is a test.</p>"
      ]
     },
     "execution_count": 40,
     "metadata": {},
     "output_type": "execute_result"
    }
   ],
   "source": [
    "# p tag \n",
    "soup.p"
   ]
  },
  {
   "cell_type": "code",
   "execution_count": 45,
   "metadata": {},
   "outputs": [
    {
     "data": {
      "text/plain": [
       "'This is a test.'"
      ]
     },
     "execution_count": 45,
     "metadata": {},
     "output_type": "execute_result"
    }
   ],
   "source": [
    "soup.p.text\n",
    "#soup.p.string"
   ]
  },
  {
   "cell_type": "code",
   "execution_count": 43,
   "metadata": {},
   "outputs": [
    {
     "name": "stdout",
     "output_type": "stream",
     "text": [
      "[<title>Hello World</title>, '\\n', <style>\n",
      "    .large {\n",
      "      color:blue;\n",
      "      text-align: center;\n",
      "    }\n",
      "</style>, '\\n']\n",
      "4\n",
      "<title>Hello World</title>\n",
      "\n",
      "\n",
      "<style>\n",
      "    .large {\n",
      "      color:blue;\n",
      "      text-align: center;\n",
      "    }\n",
      "</style>\n",
      "\n",
      "\n"
     ]
    }
   ],
   "source": [
    "#.contents 属性可將tag的子節點以列表方式输出\n",
    "print(soup.head.contents)\n",
    "\n",
    "print(len(soup.head.contents))\n",
    "\n",
    "for item in soup.head.contents:\n",
    "    print(item)"
   ]
  },
  {
   "cell_type": "code",
   "execution_count": 46,
   "metadata": {},
   "outputs": [
    {
     "name": "stdout",
     "output_type": "stream",
     "text": [
      "<title>Hello World</title>\n",
      "\n",
      "\n",
      "<style>\n",
      "    .large {\n",
      "      color:blue;\n",
      "      text-align: center;\n",
      "    }\n",
      "</style>\n",
      "\n",
      "\n"
     ]
    }
   ],
   "source": [
    "#.children 訪問子節點\n",
    "for item in soup.head.children:\n",
    "    print(item)"
   ]
  },
  {
   "cell_type": "code",
   "execution_count": 47,
   "metadata": {},
   "outputs": [
    {
     "name": "stdout",
     "output_type": "stream",
     "text": [
      "<title>Hello World</title>\n",
      "\n",
      "\n",
      "<style>\n",
      "    .large {\n",
      "      color:blue;\n",
      "      text-align: center;\n",
      "    }\n",
      "</style>\n",
      "\n",
      "\n"
     ]
    }
   ],
   "source": [
    "#.children 訪問子節點\n",
    "for item in soup.head.children:\n",
    "    print(item)"
   ]
  },
  {
   "cell_type": "code",
   "execution_count": 48,
   "metadata": {},
   "outputs": [
    {
     "name": "stdout",
     "output_type": "stream",
     "text": [
      "Hello World\n",
      "<title>Hello World</title>\n"
     ]
    }
   ],
   "source": [
    "print(soup.title.string)\n",
    "\n",
    "print(soup.title.string.parent)"
   ]
  },
  {
   "cell_type": "code",
   "execution_count": 49,
   "metadata": {},
   "outputs": [
    {
     "name": "stdout",
     "output_type": "stream",
     "text": [
      "<body><h2>Test Header</h2>\n",
      "<p>This is a test.</p>\n",
      "<a href=\"https://www.google.com.tw\" id=\"link1\"> Google網站</a>\n",
      "<a class=\"large\" href=\"https://www.facebook.com.tw\" id=\"link2\">FaceBook</a>\n",
      "<p>Hello, <b class=\"boldtext\" id=\"link1\">Bold Text</b></p>\n",
      "</body>\n",
      "-----\n",
      "<p>This is a test.</p>\n",
      "-----\n",
      "<p>This is a test.</p>\n",
      "\n",
      "\n",
      "<a href=\"https://www.google.com.tw\" id=\"link1\"> Google網站</a>\n",
      "<p>This is a test.</p>\n"
     ]
    }
   ],
   "source": [
    " #.next_sibling 和 .previous_sibling 属性来訪問同一層兄弟節點\n",
    "print(soup.body)\n",
    "print(\"-----\")\n",
    "print(soup.body.p)\n",
    "print(\"-----\")\n",
    "\n",
    "body = soup.body\n",
    "print(body.p)\n",
    "print(body.p.next_sibling)\n",
    "print(body.p.next_sibling.next_sibling)\n",
    "print(body.p.next_sibling.next_sibling.previous_sibling.previous_sibling)"
   ]
  },
  {
   "cell_type": "code",
   "execution_count": 50,
   "metadata": {},
   "outputs": [
    {
     "name": "stdout",
     "output_type": "stream",
     "text": [
      "\n",
      "Hello World\n",
      "\n",
      "    .large {\n",
      "      color:blue;\n",
      "      text-align: center;\n",
      "    }\n",
      "\n",
      "\n",
      "Test Header\n",
      "This is a test.\n",
      " Google網站\n",
      "FaceBook\n",
      "Hello, Bold Text\n",
      "\n",
      "\n"
     ]
    }
   ],
   "source": [
    "#取得網頁所有文字內容\n",
    "print(soup.getText())"
   ]
  },
  {
   "cell_type": "code",
   "execution_count": 53,
   "metadata": {},
   "outputs": [
    {
     "name": "stdout",
     "output_type": "stream",
     "text": [
      "\n",
      "\n",
      "Hello World\n",
      "\n",
      "\n",
      "\n",
      "    .large {\n",
      "      color:blue;\n",
      "      text-align: center;\n",
      "    }\n",
      "\n",
      "\n",
      "\n",
      "\n",
      "\n",
      "Test Header\n",
      "\n",
      "\n",
      "This is a test.\n",
      "\n",
      "\n",
      " Google網站\n",
      "\n",
      "\n",
      "FaceBook\n",
      "\n",
      "\n",
      "Hello, \n",
      "Bold Text\n",
      "\n",
      "\n",
      "\n",
      "\n"
     ]
    }
   ],
   "source": [
    "for string in soup.strings:\n",
    "    print(string)\n",
    "    #print(repr(string))"
   ]
  },
  {
   "cell_type": "code",
   "execution_count": 54,
   "metadata": {},
   "outputs": [
    {
     "name": "stdout",
     "output_type": "stream",
     "text": [
      "Hello World\n",
      ".large {\n",
      "      color:blue;\n",
      "      text-align: center;\n",
      "    }\n",
      "Test Header\n",
      "This is a test.\n",
      "Google網站\n",
      "FaceBook\n",
      "Hello,\n",
      "Bold Text\n"
     ]
    }
   ],
   "source": [
    "# .stripped_strings 可以移除多餘的空白内容:\n",
    "for string in soup.stripped_strings:\n",
    "    print(string)\n",
    "    #print(repr(string))"
   ]
  },
  {
   "cell_type": "markdown",
   "metadata": {},
   "source": [
    "####  1.4.1 搜尋單一節點"
   ]
  },
  {
   "cell_type": "code",
   "execution_count": 59,
   "metadata": {},
   "outputs": [
    {
     "name": "stdout",
     "output_type": "stream",
     "text": [
      " Google網站\n",
      "https://www.google.com.tw\n",
      "https://www.google.com.tw\n"
     ]
    }
   ],
   "source": [
    "#搜尋節點 by tag\n",
    "a_tag = soup.find('a')\n",
    "print(a_tag.text)\n",
    "print(a_tag['href'])\n",
    "print(a_tag.get('href')) # .get(attribute's name) 取得tag 屬性內容"
   ]
  },
  {
   "cell_type": "code",
   "execution_count": 62,
   "metadata": {},
   "outputs": [
    {
     "name": "stdout",
     "output_type": "stream",
     "text": [
      "FaceBook\n"
     ]
    }
   ],
   "source": [
    "#搜尋節點 by tag ,tag id\n",
    "a_tag = soup.find(name ='a',attrs={\"id\":\"link2\"})\n",
    "#a_tag = soup.find('a',{'id':\"link2\"})\n",
    "print(a_tag.text)"
   ]
  },
  {
   "cell_type": "code",
   "execution_count": 63,
   "metadata": {},
   "outputs": [
    {
     "name": "stdout",
     "output_type": "stream",
     "text": [
      "FaceBook\n",
      "https://www.facebook.com.tw\n",
      "['large']\n"
     ]
    }
   ],
   "source": [
    "#搜尋節點 by tag ,class name\n",
    "a_tag = soup.find(name ='a',attrs={\"class\":\"large\"})\n",
    "#a_tag = soup.find('a',{'class':\"large\"})\n",
    "#a_tag = soup.find('a','large')\n",
    "\n",
    "print(a_tag.text)\n",
    "print(a_tag['href'])\n",
    "print(a_tag['class'])"
   ]
  },
  {
   "cell_type": "code",
   "execution_count": 70,
   "metadata": {},
   "outputs": [
    {
     "name": "stdout",
     "output_type": "stream",
     "text": [
      "<a href=\"https://www.google.com.tw\" id=\"link1\"> Google網站</a>\n"
     ]
    }
   ],
   "source": [
    "tags = soup.find([\"a\", \"b\"]) #只會找到第一個符合的節點 \n",
    "print(tags)"
   ]
  },
  {
   "cell_type": "markdown",
   "metadata": {},
   "source": [
    "####  1.4.2 搜尋節點"
   ]
  },
  {
   "cell_type": "code",
   "execution_count": 65,
   "metadata": {},
   "outputs": [
    {
     "name": "stdout",
     "output_type": "stream",
     "text": [
      " Google網站\n",
      "https://www.google.com.tw\n",
      "FaceBook\n",
      "https://www.facebook.com.tw\n"
     ]
    }
   ],
   "source": [
    "#搜尋節點\n",
    "a_tags = soup.find_all('a')\n",
    "for tag in a_tags:\n",
    "    print(tag.text)\n",
    "    print(tag['href'])   "
   ]
  },
  {
   "cell_type": "code",
   "execution_count": 66,
   "metadata": {},
   "outputs": [
    {
     "name": "stdout",
     "output_type": "stream",
     "text": [
      "https://www.google.com.tw\n",
      "None\n",
      "https://www.facebook.com.tw\n",
      "['large']\n"
     ]
    }
   ],
   "source": [
    "#取出節點屬性\n",
    "for tag in a_tags:\n",
    "    print(tag.get('href'))\n",
    "    print(tag.get('class'))"
   ]
  },
  {
   "cell_type": "code",
   "execution_count": 72,
   "metadata": {},
   "outputs": [
    {
     "name": "stdout",
     "output_type": "stream",
     "text": [
      "[<a href=\"https://www.google.com.tw\" id=\"link1\"> Google網站</a>, <a class=\"large\" href=\"https://www.facebook.com.tw\" id=\"link2\">FaceBook</a>, <b class=\"boldtext\" id=\"link1\">Bold Text</b>]\n",
      "<a href=\"https://www.google.com.tw\" id=\"link1\"> Google網站</a>\n",
      " Google網站\n",
      "https://www.google.com.tw\n",
      "<a class=\"large\" href=\"https://www.facebook.com.tw\" id=\"link2\">FaceBook</a>\n",
      "FaceBook\n",
      "https://www.facebook.com.tw\n",
      "<b class=\"boldtext\" id=\"link1\">Bold Text</b>\n",
      "Bold Text\n",
      "None\n"
     ]
    }
   ],
   "source": [
    "# 搜尋所有超連結與粗體字\n",
    "tags = soup.find_all([\"a\", \"b\"])\n",
    "print(tags)\n",
    "\n",
    "for tag in tags:\n",
    "    print(tag)\n",
    "    print(tag.text)\n",
    "    print(tag.get('href'))"
   ]
  },
  {
   "cell_type": "code",
   "execution_count": 73,
   "metadata": {},
   "outputs": [
    {
     "name": "stdout",
     "output_type": "stream",
     "text": [
      "[<a href=\"https://www.google.com.tw\" id=\"link1\"> Google網站</a>, <a class=\"large\" href=\"https://www.facebook.com.tw\" id=\"link2\">FaceBook</a>]\n"
     ]
    }
   ],
   "source": [
    "# 限制搜尋結果數量\n",
    "tags = soup.find_all([\"a\", \"b\"], limit=2)\n",
    "print(tags)"
   ]
  },
  {
   "cell_type": "markdown",
   "metadata": {},
   "source": [
    "####  1.4.3 Select 選擇器"
   ]
  },
  {
   "cell_type": "code",
   "execution_count": 75,
   "metadata": {},
   "outputs": [
    {
     "data": {
      "text/plain": [
       "[<title>Hello World</title>]"
      ]
     },
     "execution_count": 75,
     "metadata": {},
     "output_type": "execute_result"
    }
   ],
   "source": [
    "soup.select(\"title\")"
   ]
  },
  {
   "cell_type": "code",
   "execution_count": 76,
   "metadata": {},
   "outputs": [
    {
     "data": {
      "text/plain": [
       "[<a href=\"https://www.google.com.tw\" id=\"link1\"> Google網站</a>,\n",
       " <a class=\"large\" href=\"https://www.facebook.com.tw\" id=\"link2\">FaceBook</a>]"
      ]
     },
     "execution_count": 76,
     "metadata": {},
     "output_type": "execute_result"
    }
   ],
   "source": [
    "soup.select(\"body a\")"
   ]
  },
  {
   "cell_type": "code",
   "execution_count": 78,
   "metadata": {},
   "outputs": [
    {
     "data": {
      "text/plain": [
       "[<a class=\"large\" href=\"https://www.facebook.com.tw\" id=\"link2\">FaceBook</a>]"
      ]
     },
     "execution_count": 78,
     "metadata": {},
     "output_type": "execute_result"
    }
   ],
   "source": [
    "# Select by css name \n",
    "soup.select(\".large\")"
   ]
  },
  {
   "cell_type": "code",
   "execution_count": 79,
   "metadata": {},
   "outputs": [
    {
     "data": {
      "text/plain": [
       "[<a class=\"large\" href=\"https://www.facebook.com.tw\" id=\"link2\">FaceBook</a>]"
      ]
     },
     "execution_count": 79,
     "metadata": {},
     "output_type": "execute_result"
    }
   ],
   "source": [
    "soup.select(\"a.large\")"
   ]
  },
  {
   "cell_type": "code",
   "execution_count": 80,
   "metadata": {},
   "outputs": [
    {
     "data": {
      "text/plain": [
       "[<a href=\"https://www.google.com.tw\" id=\"link1\"> Google網站</a>,\n",
       " <b class=\"boldtext\" id=\"link1\">Bold Text</b>]"
      ]
     },
     "execution_count": 80,
     "metadata": {},
     "output_type": "execute_result"
    }
   ],
   "source": [
    "# Select by id \n",
    "soup.select(\"#link1\")"
   ]
  },
  {
   "cell_type": "code",
   "execution_count": 81,
   "metadata": {},
   "outputs": [
    {
     "data": {
      "text/plain": [
       "[<a href=\"https://www.google.com.tw\" id=\"link1\"> Google網站</a>]"
      ]
     },
     "execution_count": 81,
     "metadata": {},
     "output_type": "execute_result"
    }
   ],
   "source": [
    "soup.select(\"a#link1\")"
   ]
  },
  {
   "cell_type": "code",
   "execution_count": 82,
   "metadata": {},
   "outputs": [
    {
     "data": {
      "text/plain": [
       "[<a href=\"https://www.google.com.tw\" id=\"link1\"> Google網站</a>,\n",
       " <a class=\"large\" href=\"https://www.facebook.com.tw\" id=\"link2\">FaceBook</a>]"
      ]
     },
     "execution_count": 82,
     "metadata": {},
     "output_type": "execute_result"
    }
   ],
   "source": [
    "#依據屬性來選擇\n",
    "soup.select('a[href]')"
   ]
  },
  {
   "cell_type": "code",
   "execution_count": 83,
   "metadata": {},
   "outputs": [
    {
     "data": {
      "text/plain": [
       "[<a class=\"large\" href=\"https://www.facebook.com.tw\" id=\"link2\">FaceBook</a>]"
      ]
     },
     "execution_count": 83,
     "metadata": {},
     "output_type": "execute_result"
    }
   ],
   "source": [
    "soup.select('a[class]')"
   ]
  },
  {
   "cell_type": "code",
   "execution_count": 84,
   "metadata": {},
   "outputs": [
    {
     "data": {
      "text/plain": [
       "[]"
      ]
     },
     "execution_count": 84,
     "metadata": {},
     "output_type": "execute_result"
    }
   ],
   "source": [
    "soup.select('a[style]')"
   ]
  },
  {
   "cell_type": "markdown",
   "metadata": {},
   "source": [
    "####  1.4.5 Example-1 抓取蘋果新聞清單"
   ]
  },
  {
   "cell_type": "code",
   "execution_count": 1,
   "metadata": {},
   "outputs": [
    {
     "name": "stdout",
     "output_type": "stream",
     "text": [
      "地產 半夜摺垃圾袋　「變態收納術」轟動FB社團(140933)\n",
      "https://tw.finance.appledaily.com/realtime/20181030/1456953/\n",
      "娛樂 《抖音》神救援中國民謠　女聲版被讚：屌打...(4236)\n",
      "https://tw.entertainment.appledaily.com/realtime/20181030/1456888/\n",
      "生活 台中花博開幕在即　郵輪巴士串連商家搏千萬...\n",
      "https://tw.news.appledaily.com/life/realtime/20181030/1457289/\n",
      "國際 【金庸逝世9】「華山論劍」成絕響　金庸8...(4245)\n",
      "https://tw.news.appledaily.com/international/realtime/20181030/1457221/\n",
      "微視蘋 【蘋果頭家】愛爾達霸氣女董　迷上精油想當...(26139)\n",
      "https://tw.news.appledaily.com/micromovie/realtime/20181030/1448130/\n",
      "3C 【紐約直擊】蘋果發表會登場！爆料新品4大...(7568)\n",
      "https://tw.lifestyle.appledaily.com/gadget/realtime/20181030/1456644/\n",
      "生活 金庸辭世　文化部長鄭麗君：一代傳奇\n",
      "https://tw.news.appledaily.com/life/realtime/20181030/1457331/\n",
      "國際 【不斷更新】蘋果發表會紐約登場　全新Ma...(284)\n",
      "https://tw.news.appledaily.com/international/realtime/20181030/1457323/\n",
      "體育 【台灣大賽】潘彥廷幸運三壘打　8局統一1...(10776)\n",
      "https://tw.sports.appledaily.com/realtime/20181030/1456988/\n",
      "社會 詐欺犯出庭欲脫逃　3法警即時制伏\n",
      "https://tw.news.appledaily.com/local/realtime/20181030/1457329/\n",
      "國際 【金庸逝世37】「我是他的粉絲」　瓊瑤：...\n",
      "https://tw.news.appledaily.com/international/realtime/20181030/1457330/\n",
      "國際 川普放話擬終止嬰兒「出生公民權」　赴美生...\n",
      "https://tw.news.appledaily.com/international/realtime/20181030/1457325/\n",
      "娛樂 17直播主報新聞　視網膜「比想像還強」(33)\n",
      "https://tw.entertainment.appledaily.com/realtime/20181030/1456955/\n",
      "娛樂 HYUKOH台北開唱力挺同志　吳赫「所有...(2115)\n",
      "https://tw.entertainment.appledaily.com/realtime/20181030/1456975/\n",
      "國際 【金庸逝世36】​演電影版令狐沖獲益多　...(81)\n",
      "https://tw.news.appledaily.com/international/realtime/20181030/1457324/\n",
      "政治 網傳法國反同遊行文章　法國在台協會：假消...(60)\n",
      "https://tw.news.appledaily.com/politics/realtime/20181030/1457113/\n",
      "國際 【金庸逝世35】黃偉哲：金庸小說發人深省...(166)\n",
      "https://tw.news.appledaily.com/international/realtime/20181030/1457308/\n",
      "國際 反咬女受害人虛報強姦　NYPD局長24年...(3120)\n",
      "https://tw.news.appledaily.com/international/realtime/20181030/1456640/\n",
      "體育 【日職總冠軍戰】軟銀9比8險勝廣島　系列...(1460)\n",
      "https://tw.sports.appledaily.com/realtime/20181030/1457264/\n",
      "生活 撼動綠金　南投檳榔面積年減百公頃(704)\n",
      "https://tw.news.appledaily.com/life/realtime/20181030/1456848/\n",
      "國際 【金庸逝世21】著作重現消失的王朝風情　...(1781)\n",
      "https://tw.news.appledaily.com/international/realtime/20181030/1457280/\n",
      "財經 新光人壽起家厝要都更了　最快2023年完...(806)\n",
      "https://tw.finance.appledaily.com/realtime/20181030/1457316/\n",
      "國際 【金庸逝世34】武俠泰斗金庸過逝　總統府...(916)\n",
      "https://tw.news.appledaily.com/international/realtime/20181030/1457315/\n",
      "娛樂 31歲文彩媛升格當仙子　竟有小13歲的女...(1433)\n",
      "https://tw.entertainment.appledaily.com/realtime/20181030/1457311/\n",
      "國際 【金庸逝世33】最像筆下哪個人物？金學專...(1787)\n",
      "https://tw.news.appledaily.com/international/realtime/20181030/1457309/\n",
      "體育 【台灣大賽】睽違5年回台南　7189名觀...(700)\n",
      "https://tw.sports.appledaily.com/realtime/20181030/1457319/\n",
      "社會 航警重重一摔　學生帶拉糖作品出國比賽夢碎(350411)\n",
      "https://tw.news.appledaily.com/local/realtime/20181030/1457018/\n",
      "國際 【金庸逝世32】武俠作家溫瑞安悼金庸　「...(822)\n",
      "https://tw.news.appledaily.com/international/realtime/20181030/1457314/\n",
      "論壇 預防勝於治療 長照經費缺口不如用「保健運...(174)\n",
      "https://tw.news.appledaily.com/forum/realtime/20181030/1457129/\n",
      "社會 「這個妹妹很可愛想啃一口」　華航空姐控機...(2374)\n",
      "https://tw.news.appledaily.com/local/realtime/20181030/1457245/\n"
     ]
    }
   ],
   "source": [
    "import requests\n",
    "from bs4 import BeautifulSoup\n",
    "\n",
    "domainurl='http://www.appledaily.com.tw/realtimenews/section/new/'\n",
    "\n",
    "res = requests.get(domainurl)\n",
    "soup = BeautifulSoup(res.text)\n",
    "\n",
    "#print (soup)\n",
    "\n",
    "for news in soup.select('.rtddt'):\n",
    "        link = news.select('a')[0]['href']\n",
    "        Type = news.select('h2')[0].text\n",
    "        Title = news.select('h1')[0].text\n",
    "        print (Type, Title)\n",
    "        print (link)"
   ]
  },
  {
   "cell_type": "markdown",
   "metadata": {},
   "source": [
    "####  1.4.5 Example-2 抓取蘋果新聞內文"
   ]
  },
  {
   "cell_type": "code",
   "execution_count": 2,
   "metadata": {},
   "outputs": [
    {
     "name": "stdout",
     "output_type": "stream",
     "text": [
      "【金庸逝世14】挑哪一段向金庸致敬？網友選「蛛兒淚拒無忌表哥」\n",
      "一代武俠小說泰斗查良鏞（筆名為金庸）今晚驚傳逝世，享年94歲，網友們紛紛哀悼，有位粉絲就問大家：「如果要挑一個段子跟大師致敬，你會挑哪一段？」 這位網友在《PTT》「八卦板」發文說：「話說，金學，陪伴著大家高中那段青澀歲月，練功，武林絕學，飛雪連天射白鹿，笑書神俠倚碧鴛。沒練完功的自己去補齊。如果要挑個段子跟大師致敬，大家印象最深的是那段啊？」這位網友引了這段：她轉過頭來，柔聲道「阿牛哥哥，你一直待我很好，我好生感激。可是我的心，早就許了給那個狠心的、兇惡的小張無忌了。你不是他，不，不是他……」（摘自《倚天屠龍記》）不識張郎是張郎。永別了。大師。 （即時新聞中心／綜合報導）\n"
     ]
    }
   ],
   "source": [
    "import requests\n",
    "from bs4 import BeautifulSoup\n",
    "\n",
    "domainurl='https://tw.news.appledaily.com/international/realtime/20181030/1457243/'\n",
    "\n",
    "res = requests.get(domainurl)\n",
    "soup = BeautifulSoup(res.text)\n",
    "\n",
    "#print (soup)\n",
    "\n",
    "title = soup.select('article.ndArticle_leftColumn h1')[0].text\n",
    "content = soup.select('article.ndArticle_content div.ndArticle_margin p')[0].text\n",
    "print(title)\n",
    "print(content)"
   ]
  },
  {
   "cell_type": "markdown",
   "metadata": {},
   "source": [
    "####  1.4.5 Example-3 抓取蘋果新聞清單列表,內文並儲存至資料庫"
   ]
  },
  {
   "cell_type": "code",
   "execution_count": null,
   "metadata": {
    "collapsed": true
   },
   "outputs": [],
   "source": [
    "import pymongo\n",
    "import requests\n",
    "from bs4 import BeautifulSoup\n",
    "\n",
    "\n",
    "def getContent(link):\n",
    "    res = requests.get(link)\n",
    "    soup = BeautifulSoup(res.text)\n",
    "    title = soup.select('article.ndArticle_leftColumn h1')[0].text\n",
    "    content = soup.select('article.ndArticle_content div.ndArticle_margin p')[0].text\n",
    "    #print(title)\n",
    "    #print(content)\n",
    "    return content\n",
    "\n",
    "def insertDB(tag,title,link,content):\n",
    "    myclient = pymongo.MongoClient(\"mongodb://localhost:27017/\")\n",
    "    mydb = myclient[\"Article\"]\n",
    "    mycol = mydb['AppleNews']\n",
    "    mydict = { \"tag\": tag,\"title\":title,\"link\": link, \"content\":content } \n",
    "    x = mycol.insert_one(mydict) \n",
    "    print(x.inserted_id) \n",
    "\n",
    "domainurl='http://www.appledaily.com.tw/realtimenews/section/new/'\n",
    "\n",
    "res = requests.get(domainurl)\n",
    "soup = BeautifulSoup(res.text)\n",
    "\n",
    "\n",
    "for news in soup.select('.rtddt'):\n",
    "        link = news.select('a')[0]['href']\n",
    "        tag= news.select('h2')[0].text\n",
    "        title = news.select('h1')[0].text\n",
    "        print (tag, title)\n",
    "        print (link)\n",
    "        content = getContent(link)\n",
    "        insertDB(tag,title,link,content)"
   ]
  },
  {
   "cell_type": "markdown",
   "metadata": {},
   "source": [
    "####  1.4.5  Example-4 抓取PTT文章內容及回文"
   ]
  },
  {
   "cell_type": "code",
   "execution_count": 4,
   "metadata": {},
   "outputs": [
    {
     "name": "stdout",
     "output_type": "stream",
     "text": [
      "作者kero2377 (顆顆)看板HatePolitics標題[討論] 高雄選情分析時間Tue Oct 16 13:51:46 2018\n",
      "等等要出門了 趁著還有一些空檔 就不富奸了\n",
      "\n",
      "\n",
      "帶來眾所矚目的高雄選情\n",
      "\n",
      "\n",
      "高雄是由\n",
      "\n",
      "\n",
      "正義 溫暖  臉書擁有國際粉絲的巨星  陳其邁\n",
      "\n",
      "\n",
      "\n",
      "與\n",
      "\n",
      "\n",
      "黑道 色情狂 北部菜蟲王  獎金發太多的散財童子  跟著月亮走的北農ceo韓國瑜\n",
      "\n",
      "\n",
      "\n",
      ".... 乾  我不會被吉吧   國瑜  我都是看電視學來的 母湯針對\n",
      "\n",
      "\n",
      "\n",
      "進入正題吧\n",
      "\n",
      "\n",
      "\n",
      "\n",
      "陳其邁  45.7\n",
      "\n",
      "\n",
      "韓國瑜  43.5\n",
      "\n",
      "\n",
      "不知道/沒意見     10.8\n",
      "\n",
      "\n",
      "\n",
      "猶如各位所見  真的很膠著 .\n",
      "\n",
      "\n",
      "但韓國瑜在這三個禮拜追的速度非常的 非常的  驚人\n",
      "\n",
      "\n",
      "在一個月以前他是穩定輸15%的  而在做了館長直播後  更加的追近了\n",
      "\n",
      "\n",
      "但韓粉們也不能過於樂觀  畢竟現在是韓國瑜的名望高峰期  但還是壓不倒陳其邁\n",
      "\n",
      "\n",
      "主要是深綠區太穩固了  市區已經轉韓.  而不知道或沒意見的區塊 研判也是陳其邁居多\n",
      "\n",
      "\n",
      "所以目前陳其邁還是贏在3-5%之間的  所以以我個人的經驗分析\n",
      "\n",
      "\n",
      "陳其邁應該會以微小票數勝出  除非外地的年輕人非常的carry 把我們韓總推上市長大位\n",
      "\n",
      "\n",
      "否則綠地的機率 應還是超過六成  就看這個月韓總能帶給我們甚麼樣的內容了\n",
      "\n",
      "\n",
      "----\n",
      "\n",
      "\n",
      "北市選情分析  #1RnMSOiN\n",
      "\n",
      "\n",
      "\n",
      "--\n",
      "※ 發信站: 批踢踢實業坊(ptt.cc), 來自: 118.232.84.177\n",
      "※ 文章網址: https://www.ptt.cc/bbs/HatePolitics/M.1539669111.A.B2D.html\n",
      "推 mark2165: 推 韓加油 10/16 13:52\n",
      "推 medlife0830: 真的要看高雄年輕朋友了 10/16 13:53\n",
      "推 liunwaiqoo: 你這預估很合理,但我仍然認為韓能以5萬票左右勝出 10/16 13:53\n",
      "          韓要更努力 陳要爆得更用力 就有機會\n",
      "推 zenan321: 你的數字是支持率還是投票結果百分比?\n",
      "            百分比\n",
      "推 gerund: 3F到底哪裡來的自信? 10/16 13:54\n",
      "※ 編輯: kero2377 (118.232.84.177), 10/16/2018 13:55:43\n",
      "推 npcxx: 1124滅東廠 還是要靠據說不到一萬的幽靈北漂才行 10/16 13:54\n",
      "→ liunwaiqoo: 然後你說一個月前韓穩定輸15%?9月11日 TVBS韓只輸4%耶 10/16 13:54\n",
      "            尊重TVBS XD\n",
      "推 alex8725: 現在我相信是PK盤了 10/16 13:54\n",
      "→ alex8725: 這數字還在誤差範圍內 10/16 13:55\n",
      "→ alex8725: 不過陳已經開始自爆了 10/16 13:55\n",
      "→ rorobus: 韓國魚輸了=高雄人贏了 10/16 13:55\n",
      "→ liunwaiqoo: 自信來自於我自己的分析 #1RmKj4nB (HatePolitics) 10/16 13:56\n",
      "推 serv828: 藍綠對決 10/16 13:56\n",
      "推 cafupupu: 韓國被狗幹都沒告了，78告網友不手軟 10/16 13:56\n",
      "→ s72005ming: 韓不可能贏\n",
      "          4成吧\n",
      "※ 編輯: kero2377 (118.232.84.177), 10/16/2018 13:57:41\n",
      "推 zenan321: 你不是普通人物喔，我知道這個數字是民進洞的期望值 10/16 13:57\n",
      "推 kobest: 78這個月一直在自爆 告人  我是覺得韓剩贏多贏少的問題了 10/16 13:58\n",
      "推 windwater77: 時機邁邁投吉邁 含血含淚投dpp 10/16 13:58\n",
      "→ BossSB: ======================你少算館粉\n",
      "           還記得洪慈庸與楊瓊瓔的戰爭嗎? 就看風向了 韓不是沒機會\n",
      "推 Zcould: 必推，言出必踐的神人 10/16 13:58\n",
      "→ zenan321: 這次九合一的繁重選務，讓很多公務人員不願參與選務 10/16 13:58\n",
      "→ zenan321: 樁腳派了不少人去參與 10/16 13:59\n",
      "※ 編輯: kero2377 (118.232.84.177), 10/16/2018 14:00:16\n",
      "推 pieceiori: 其實還有另外兩位候選人...\n",
      "          不影響到藍綠大局\n",
      "→ ashotwa47: 韓國瑜真的從頭輸到尾 10/16 13:59\n",
      "推 SaChiA5566: 我也覺得現在還是吉邁領先約快20萬 10/16 13:59\n",
      "→ zenan321: 10%裡面有8%是廢票，這把戲以前在宋楚瑜的選舉有看過 10/16 14:00\n",
      "\n",
      "推 a80563: kero大選舉前會再分析一次嗎，感覺持續有變化\n",
      "           這個月會陪大家瘋一下XD\n",
      "※ 編輯: kero2377 (118.232.84.177), 10/16/2018 14:01:36\n",
      "推 caelum: 韓國瑜9月就贏了。民間各民調五五波，是加權的原因。 10/16 14:01\n",
      "           網路世界對韓太樂觀  20年的盤根錯節 不是說喊喊就能倒 還要加油\n",
      "→ sincsnow: kero大看來有秘密管道可以知道我們不知道的事情。 10/16 14:01\n",
      "推 elliott31533: 請問選前會有最終版嗎 想看有沒有變化 10/16 14:01\n",
      "→ whitenoise: 原PO美麗島民調？ 10/16 14:02\n",
      "※ 編輯: kero2377 (118.232.84.177), 10/16/2018 14:02:41\n",
      "推 zenan321: 從你民進洞內部的期望值與投票率回推，我可以確定一件事 10/16 14:02\n",
      "→ zenan321: 那就是陳其邁的民調確實是輸了。\n",
      "          只能說 不至於\n",
      "推 Zcould: 能拿到2016所有選區立委數據，這背後管道驚人\n",
      "          夢到的拉靠杯  是我腦捕的數字\n",
      "※ 編輯: kero2377 (118.232.84.177), 10/16/2018 14:04:05\n",
      "推 liunwaiqoo: 如果你講的都是真的那北漂還真的可以決定勝負 10/16 14:03\n",
      "推 joe10337: 64開真的合理 10/16 14:03\n",
      "推 Fed: 推! 寒郭魚跟蒸雞排上菜~ 10/16 14:04\n",
      "※ 編輯: kero2377 (118.232.84.177), 10/16/2018 14:05:58\n",
      "→ oldorch0309: 這民調哪來的啊？\n",
      "            當個人預測就好   我也不想故弄玄虛\n",
      "※ 編輯: kero2377 (118.232.84.177), 10/16/2018 14:07:30\n",
      "→ mark2165: 蘇盈貴會被棄保吧？ 10/16 14:08\n",
      "推 liunwaiqoo: 周偉航：柯粉有2成5會投蘇盈貴 XDDDD  根本是笑話XD 10/16 14:08\n",
      "→ GaryCrawford: 我覺得這數字算是蠻合理的 推測 10/16 14:09\n",
      "推 talesb72232: 推理不錯 但前提是韓國瑜目前已是最高峰 10/16 14:09\n",
      "推 BossSB: 韓目前只是開始而已 接下來都是各大社團表態 10/16 14:09\n",
      "→ powderzhon: 現在怎麼會是韓的高峰期？ 你太小看陳吉邁了 10/16 14:10\n",
      "推 newgoodman24: 我也這麼覺得 縣區拿不下來 市區現在韓只差一塊 10/16 14:10\n",
      "           韓應該會全拚市區了  左楠一定要拿得非常高才能贏\n",
      "→ liunwaiqoo: 我真的不覺得韓現在已經是最高峰了,還有一些未表態和 10/16 14:10\n",
      "→ BossSB: 若私心一點就公布民調 加快跳船 10/16 14:10\n",
      "→ newgoodman24: 就是投不下去國民黨的柯粉+年輕淺綠 這塊韓拿到 10/16 14:10\n",
      "           你得到他了. 我認為只要柯 暗示一下  Maybe .. 空襲警報就響了\n",
      "→ liunwaiqoo: 不關心政治的仍然是可以用空軍去開發出來的票源 10/16 14:10\n",
      "→ shefu120: 剩下一個月衝刺時間決定勝負 10/16 14:11\n",
      "→ newgoodman24: 韓就可以小贏其邁 有些人還是認為韓=KMT 10/16 14:11\n",
      "※ 編輯: kero2377 (118.232.84.177), 10/16/2018 14:12:07\n",
      "※ 編輯: kero2377 (118.232.84.177), 10/16/2018 14:13:27\n",
      "推 shefu120: 我討厭kmt 但我覺得韓不錯 10/16 14:12\n",
      "推 leon771170: 吸奶就是丁姚南部版 越打越抹越草包 10/16 14:12\n",
      "推 Sakurasai: 預測民調就不會有不知道了XD 上上週有接到自由的民調 10/16 14:14\n",
      "→ Sakurasai: 不知道是不是他們家的 10/16 14:14\n",
      "推 chyou2003: 年輕柯粉根本不知道誰是蘇盈貴 10/16 14:14\n",
      "※ 編輯: kero2377 (118.232.84.177), 10/16/2018 14:16:06\n",
      "推 SoMnUs: 推 希望外地年輕人可以回去投票 10/16 14:15\n",
      "推 dogluckyno1: 真的是選情膠著，進PK盤 10/16 14:16\n",
      "推 capirex: 縣區輸到脫褲 10/16 14:17\n",
      "→ heroandeve: 贏很多就會是台南那種選法 就是PK盤了 10/16 14:21\n",
      "→ capirex: 想問一下北市議員 民進黨會掉幾席? 10/16 14:22\n",
      "推 infinitie: 不反串 韓總打這個節骨眼 如果最終無法勝選 藍營支持者 10/16 14:22\n",
      "→ infinitie: 會嘔死或哭死 現在連北部的朋友都在聊韓勝選的可能性 10/16 14:23\n",
      "推 LewisRong: 個人覺得韓目前應該只輸20萬 還有一個月+北漂拼拼看 10/16 14:24\n",
      "→ infinitie: 因此 深藍淺藍用爬的也會出來投 剩下的 就看韓的造化了 10/16 14:24\n",
      "→ LewisRong: 但韓要講一些能撼動縣區的政策 蛋黃蛋白論太淺 10/16 14:24\n",
      "→ infinitie: 這次高雄藍軍動員能力 不亞於2008年 該醒的都醒了 10/16 14:25\n",
      "→ kero2377: 在外頭了 先跟大家預告 D會慢慢不打柯了 10/16 14:25\n",
      "→ infinitie: 最後的關鍵 就是韓總要在縣區把落後極小化 10/16 14:25\n",
      "→ kero2377: 怕柯使出殺手鐧讓高雄變藍天顆顆 10/16 14:26\n",
      "→ LewisRong: 要打動縣區農漁民要講得更讓人有感覺跟深入 10/16 14:26\n",
      "→ oldorch0309: 小心被吉 10/16 14:26\n",
      "→ infinitie: 個人看法 D不打柯也不重要了 游離票早就走了 10/16 14:27\n",
      "→ LewisRong: 市區應該五五波了啦 韓最後一個月應該要進縣區轉陸戰 10/16 14:29\n",
      "→ LewisRong: 空軍空軍靠直播就夠了 陳空軍根本跟掛了沒兩樣 10/16 14:30\n",
      "→ wurenben: 這是8月的民調吧?這幾天喊告支持者會是領先者做的事? 10/16 14:30\n",
      "→ LewisRong: 縣區韓只要盡力輸比較少+北漂全力發動也許有一絲機會 10/16 14:31\n",
      "→ liunwaiqoo: 過幾天還有韓跟沈玉琳的影片,覺得這部片可以再刷一波 10/16 14:32\n",
      "推 BossSB: 沈是攻政治冷感的族群 還有幾招是北漂部分 10/16 14:33\n",
      "推 LewisRong: 韓團隊最好拍隻廣告在選前催北漂票 拼拼看 10/16 14:33\n",
      "→ liunwaiqoo: 政治冷感的那塊市場一定還有可以挖到的票源 10/16 14:33\n",
      "推 NAGI: D不打柯的話 要先把姚文關起來吧XD 10/16 14:34\n",
      "→ liunwaiqoo: 北漂也是很重要,如果能催出10萬北漂族回來就有機會了 10/16 14:34\n",
      "推 takenostand: 閣下應該非閒雜人等，科科 10/16 14:41\n",
      "推 chucky: 合理 10/16 14:42\n",
      "推 hedonist: 推kero 10/16 14:43\n",
      "推 London2006: 推 10/16 14:44\n",
      "推 takenostand: 看來柯真的只要暗示一下就能翻盤 10/16 14:47\n",
      "推 kcclasaki: 正義溫暖三小 我大其邁現在打經濟牌啦 10/16 14:48\n",
      "推 infinitie: 柯應該是個很直的人 我大DPP砍你砍的刀刀見骨 應該不可 10/16 14:51\n",
      "→ infinitie: 能選前不打你，你就願意和他當朋友 10/16 14:51\n",
      "推 Floramom1224: 樓主有資料來源嗎 想看 10/16 14:59\n",
      "推 CjackC: 民進黨要是再敢搞事 就翻了 10/16 15:06\n",
      "推 sleepcat612: 選後柯對待DPP柯黑的態度應該會跟蘇清泉等人一樣 10/16 15:10\n",
      "推 taiwanmonkey: 前面的民調 返鄉投票的人佔3%韓就贏了 10/16 15:12\n",
      "→ taiwanmonkey: 何況民進黨開始自爆了 10/16 15:13\n",
      "推 kkkyyy: 韓總就盡力而為！打個乾淨漂亮的選戰就值了！ 10/16 15:18\n",
      "→ littleheadv: 韓其實早翻盤了 舊高雄縣路人騎士甲路過 10/16 15:25\n",
      "推 lingz1024: 加油吧衝 10/16 16:00\n",
      "推 amadda: 我也估雙方在誤差範圍，陳會小勝，但我賭盤卻買韓XDDDDD 10/16 16:12\n",
      "→ amadda: 希望韓國瑜加油一點，我的P幣就靠你回魂啦XD 10/16 16:13\n",
      "推 amadda: 我覺得高雄這一仗真的是北漂的人會覺得選票最後的答案 10/16 16:15\n",
      "→ amadda: 只是那一方能催到最多北漂回來投票才是重點 10/16 16:15\n",
      "推 zenan321: 你的分析很明確告訴我民進洞想在選票動手腳 10/16 16:16\n",
      "→ zenan321: 謝謝你善意的提醒 10/16 16:16\n",
      "推 amadda: 這次開票，希望柯韓支持者能自主去監票，很多中立公務人員 10/16 16:18\n",
      "→ amadda: 因為這次選務實在太靠么，所以不願幫忙，只好對外找人支應 10/16 16:19\n",
      "推 amadda: 如果民進黨真的想死可以儘量去惹柯，把柯徹底給惹毛試試看 10/16 16:23\n",
      "→ amadda: 柯只要幫韓說個兩句話，高雄柯粉大概都會閉眼投下去了XD 10/16 16:24\n",
      "→ herrowui: 挺柯不一定要挺韓，搞清楚\n",
      "          人數足以翻盤就好了\n",
      "※ 編輯: kero2377 (118.232.84.177), 10/16/2018 16:40:40\n",
      "噓 diaogaro: 可以大贏中國國民黨，陳情邁當選 10/16 17:23\n",
      "推 ComeAsYouAre: 柯的確是投不下車輪牌的催票機，如果柯肯站出來一乎 10/16 17:54\n",
      "→ ComeAsYouAre: ，韓就贏了 10/16 17:54\n",
      "推 ComeAsYouAre: 但如果他去幫韓，就一定得幫林，但林這白癡有總統 10/16 17:55\n",
      "→ ComeAsYouAre: 夢 10/16 17:55\n",
      "→ DanJill: 78應該還是會贏，韓小輸。但母豬黨醜態盡出，韓留下好名 10/16 19:31\n",
      "→ DanJill: 聲成為國民黨核心人物。輸了也划算，根本超值。 10/16 19:31\n",
      "→ DanJill: 我不是高雄人，高雄繼續破敗我不痛不癢 10/16 19:32\n",
      "→ DanJill: 78會贏，但贏的很難看，很丟臉 10/16 19:33\n",
      "推 segga: 還有一個月 還有機會 10/16 23:32\n",
      "推 insomeday: 韓退黨有機會嗎 10/17 20:18\n",
      "\n"
     ]
    }
   ],
   "source": [
    "import requests\n",
    "from bs4 import BeautifulSoup\n",
    "\n",
    "res = requests.get('https://www.ptt.cc/bbs/HatePolitics/M.1539669111.A.B2D.html')\n",
    "soup = BeautifulSoup(res.text)\n",
    "mainContent = soup.find(name = 'div',attrs={\"class\":\"bbs-screen bbs-content\"})\n",
    "#print(mainContent)\n",
    "content = mainContent.text\n",
    "print(content)"
   ]
  },
  {
   "cell_type": "code",
   "execution_count": 5,
   "metadata": {},
   "outputs": [
    {
     "name": "stdout",
     "output_type": "stream",
     "text": [
      "作者kero2377 (顆顆)看板HatePolitics標題[討論] 高雄選情分析時間Tue Oct 16 13:51:46 2018\n",
      "等等要出門了 趁著還有一些空檔 就不富奸了\n",
      "\n",
      "\n",
      "帶來眾所矚目的高雄選情\n",
      "\n",
      "\n",
      "高雄是由\n",
      "\n",
      "\n",
      "正義 溫暖  臉書擁有國際粉絲的巨星  陳其邁\n",
      "\n",
      "\n",
      "\n",
      "與\n",
      "\n",
      "\n",
      "黑道 色情狂 北部菜蟲王  獎金發太多的散財童子  跟著月亮走的北農ceo韓國瑜\n",
      "\n",
      "\n",
      "\n",
      ".... 乾  我不會被吉吧   國瑜  我都是看電視學來的 母湯針對\n",
      "\n",
      "\n",
      "\n",
      "進入正題吧\n",
      "\n",
      "\n",
      "\n",
      "\n",
      "陳其邁  45.7\n",
      "\n",
      "\n",
      "韓國瑜  43.5\n",
      "\n",
      "\n",
      "不知道/沒意見     10.8\n",
      "\n",
      "\n",
      "\n",
      "猶如各位所見  真的很膠著 .\n",
      "\n",
      "\n",
      "但韓國瑜在這三個禮拜追的速度非常的 非常的  驚人\n",
      "\n",
      "\n",
      "在一個月以前他是穩定輸15%的  而在做了館長直播後  更加的追近了\n",
      "\n",
      "\n",
      "但韓粉們也不能過於樂觀  畢竟現在是韓國瑜的名望高峰期  但還是壓不倒陳其邁\n",
      "\n",
      "\n",
      "主要是深綠區太穩固了  市區已經轉韓.  而不知道或沒意見的區塊 研判也是陳其邁居多\n",
      "\n",
      "\n",
      "所以目前陳其邁還是贏在3-5%之間的  所以以我個人的經驗分析\n",
      "\n",
      "\n",
      "陳其邁應該會以微小票數勝出  除非外地的年輕人非常的carry 把我們韓總推上市長大位\n",
      "\n",
      "\n",
      "否則綠地的機率 應還是超過六成  就看這個月韓總能帶給我們甚麼樣的內容了\n",
      "\n",
      "\n",
      "----\n",
      "\n",
      "\n",
      "北市選情分析  #1RnMSOiN\n",
      "\n",
      "\n",
      "\n",
      "--\n",
      "※ 發信站: 批踢踢實業坊(ptt.cc), 來自: 118.232.84.177\n",
      "※ 文章網址: https://www.ptt.cc/bbs/HatePolitics/M.1539669111.A.B2D.html\n",
      "推 mark2165: 推 韓加油 10/16 13:52\n",
      "推 medlife0830: 真的要看高雄年輕朋友了 10/16 13:53\n",
      "推 liunwaiqoo: 你這預估很合理,但我仍然認為韓能以5萬票左右勝出 10/16 13:53\n",
      "          韓要更努力 陳要爆得更用力 就有機會\n",
      "推 zenan321: 你的數字是支持率還是投票結果百分比?\n",
      "            百分比\n",
      "推 gerund: 3F到底哪裡來的自信? 10/16 13:54\n",
      "※ 編輯: kero2377 (118.232.84.177), 10/16/2018 13:55:43\n",
      "推 npcxx: 1124滅東廠 還是要靠據說不到一萬的幽靈北漂才行 10/16 13:54\n",
      "→ liunwaiqoo: 然後你說一個月前韓穩定輸15%?9月11日 TVBS韓只輸4%耶 10/16 13:54\n",
      "            尊重TVBS XD\n",
      "推 alex8725: 現在我相信是PK盤了 10/16 13:54\n",
      "→ alex8725: 這數字還在誤差範圍內 10/16 13:55\n",
      "→ alex8725: 不過陳已經開始自爆了 10/16 13:55\n",
      "→ rorobus: 韓國魚輸了=高雄人贏了 10/16 13:55\n",
      "→ liunwaiqoo: 自信來自於我自己的分析 #1RmKj4nB (HatePolitics) 10/16 13:56\n",
      "推 serv828: 藍綠對決 10/16 13:56\n",
      "推 cafupupu: 韓國被狗幹都沒告了，78告網友不手軟 10/16 13:56\n",
      "→ s72005ming: 韓不可能贏\n",
      "          4成吧\n",
      "※ 編輯: kero2377 (118.232.84.177), 10/16/2018 13:57:41\n",
      "推 zenan321: 你不是普通人物喔，我知道這個數字是民進洞的期望值 10/16 13:57\n",
      "推 kobest: 78這個月一直在自爆 告人  我是覺得韓剩贏多贏少的問題了 10/16 13:58\n",
      "推 windwater77: 時機邁邁投吉邁 含血含淚投dpp 10/16 13:58\n",
      "→ BossSB: ======================你少算館粉\n",
      "           還記得洪慈庸與楊瓊瓔的戰爭嗎? 就看風向了 韓不是沒機會\n",
      "推 Zcould: 必推，言出必踐的神人 10/16 13:58\n",
      "→ zenan321: 這次九合一的繁重選務，讓很多公務人員不願參與選務 10/16 13:58\n",
      "→ zenan321: 樁腳派了不少人去參與 10/16 13:59\n",
      "※ 編輯: kero2377 (118.232.84.177), 10/16/2018 14:00:16\n",
      "推 pieceiori: 其實還有另外兩位候選人...\n",
      "          不影響到藍綠大局\n",
      "→ ashotwa47: 韓國瑜真的從頭輸到尾 10/16 13:59\n",
      "推 SaChiA5566: 我也覺得現在還是吉邁領先約快20萬 10/16 13:59\n",
      "→ zenan321: 10%裡面有8%是廢票，這把戲以前在宋楚瑜的選舉有看過 10/16 14:00\n",
      "\n",
      "推 a80563: kero大選舉前會再分析一次嗎，感覺持續有變化\n",
      "           這個月會陪大家瘋一下XD\n",
      "※ 編輯: kero2377 (118.232.84.177), 10/16/2018 14:01:36\n",
      "推 caelum: 韓國瑜9月就贏了。民間各民調五五波，是加權的原因。 10/16 14:01\n",
      "           網路世界對韓太樂觀  20年的盤根錯節 不是說喊喊就能倒 還要加油\n",
      "→ sincsnow: kero大看來有秘密管道可以知道我們不知道的事情。 10/16 14:01\n",
      "推 elliott31533: 請問選前會有最終版嗎 想看有沒有變化 10/16 14:01\n",
      "→ whitenoise: 原PO美麗島民調？ 10/16 14:02\n",
      "※ 編輯: kero2377 (118.232.84.177), 10/16/2018 14:02:41\n",
      "推 zenan321: 從你民進洞內部的期望值與投票率回推，我可以確定一件事 10/16 14:02\n",
      "→ zenan321: 那就是陳其邁的民調確實是輸了。\n",
      "          只能說 不至於\n",
      "推 Zcould: 能拿到2016所有選區立委數據，這背後管道驚人\n",
      "          夢到的拉靠杯  是我腦捕的數字\n",
      "※ 編輯: kero2377 (118.232.84.177), 10/16/2018 14:04:05\n",
      "推 liunwaiqoo: 如果你講的都是真的那北漂還真的可以決定勝負 10/16 14:03\n",
      "推 joe10337: 64開真的合理 10/16 14:03\n",
      "推 Fed: 推! 寒郭魚跟蒸雞排上菜~ 10/16 14:04\n",
      "※ 編輯: kero2377 (118.232.84.177), 10/16/2018 14:05:58\n",
      "→ oldorch0309: 這民調哪來的啊？\n",
      "            當個人預測就好   我也不想故弄玄虛\n",
      "※ 編輯: kero2377 (118.232.84.177), 10/16/2018 14:07:30\n",
      "→ mark2165: 蘇盈貴會被棄保吧？ 10/16 14:08\n",
      "推 liunwaiqoo: 周偉航：柯粉有2成5會投蘇盈貴 XDDDD  根本是笑話XD 10/16 14:08\n",
      "→ GaryCrawford: 我覺得這數字算是蠻合理的 推測 10/16 14:09\n",
      "推 talesb72232: 推理不錯 但前提是韓國瑜目前已是最高峰 10/16 14:09\n",
      "推 BossSB: 韓目前只是開始而已 接下來都是各大社團表態 10/16 14:09\n",
      "→ powderzhon: 現在怎麼會是韓的高峰期？ 你太小看陳吉邁了 10/16 14:10\n",
      "推 newgoodman24: 我也這麼覺得 縣區拿不下來 市區現在韓只差一塊 10/16 14:10\n",
      "           韓應該會全拚市區了  左楠一定要拿得非常高才能贏\n",
      "→ liunwaiqoo: 我真的不覺得韓現在已經是最高峰了,還有一些未表態和 10/16 14:10\n",
      "→ BossSB: 若私心一點就公布民調 加快跳船 10/16 14:10\n",
      "→ newgoodman24: 就是投不下去國民黨的柯粉+年輕淺綠 這塊韓拿到 10/16 14:10\n",
      "           你得到他了. 我認為只要柯 暗示一下  Maybe .. 空襲警報就響了\n",
      "→ liunwaiqoo: 不關心政治的仍然是可以用空軍去開發出來的票源 10/16 14:10\n",
      "→ shefu120: 剩下一個月衝刺時間決定勝負 10/16 14:11\n",
      "→ newgoodman24: 韓就可以小贏其邁 有些人還是認為韓=KMT 10/16 14:11\n",
      "※ 編輯: kero2377 (118.232.84.177), 10/16/2018 14:12:07\n",
      "※ 編輯: kero2377 (118.232.84.177), 10/16/2018 14:13:27\n",
      "推 shefu120: 我討厭kmt 但我覺得韓不錯 10/16 14:12\n",
      "推 leon771170: 吸奶就是丁姚南部版 越打越抹越草包 10/16 14:12\n",
      "推 Sakurasai: 預測民調就不會有不知道了XD 上上週有接到自由的民調 10/16 14:14\n",
      "→ Sakurasai: 不知道是不是他們家的 10/16 14:14\n",
      "推 chyou2003: 年輕柯粉根本不知道誰是蘇盈貴 10/16 14:14\n",
      "※ 編輯: kero2377 (118.232.84.177), 10/16/2018 14:16:06\n",
      "推 SoMnUs: 推 希望外地年輕人可以回去投票 10/16 14:15\n",
      "推 dogluckyno1: 真的是選情膠著，進PK盤 10/16 14:16\n",
      "推 capirex: 縣區輸到脫褲 10/16 14:17\n",
      "→ heroandeve: 贏很多就會是台南那種選法 就是PK盤了 10/16 14:21\n",
      "→ capirex: 想問一下北市議員 民進黨會掉幾席? 10/16 14:22\n",
      "推 infinitie: 不反串 韓總打這個節骨眼 如果最終無法勝選 藍營支持者 10/16 14:22\n",
      "→ infinitie: 會嘔死或哭死 現在連北部的朋友都在聊韓勝選的可能性 10/16 14:23\n",
      "推 LewisRong: 個人覺得韓目前應該只輸20萬 還有一個月+北漂拼拼看 10/16 14:24\n",
      "→ infinitie: 因此 深藍淺藍用爬的也會出來投 剩下的 就看韓的造化了 10/16 14:24\n",
      "→ LewisRong: 但韓要講一些能撼動縣區的政策 蛋黃蛋白論太淺 10/16 14:24\n",
      "→ infinitie: 這次高雄藍軍動員能力 不亞於2008年 該醒的都醒了 10/16 14:25\n",
      "→ kero2377: 在外頭了 先跟大家預告 D會慢慢不打柯了 10/16 14:25\n",
      "→ infinitie: 最後的關鍵 就是韓總要在縣區把落後極小化 10/16 14:25\n",
      "→ kero2377: 怕柯使出殺手鐧讓高雄變藍天顆顆 10/16 14:26\n",
      "→ LewisRong: 要打動縣區農漁民要講得更讓人有感覺跟深入 10/16 14:26\n",
      "→ oldorch0309: 小心被吉 10/16 14:26\n",
      "→ infinitie: 個人看法 D不打柯也不重要了 游離票早就走了 10/16 14:27\n",
      "→ LewisRong: 市區應該五五波了啦 韓最後一個月應該要進縣區轉陸戰 10/16 14:29\n",
      "→ LewisRong: 空軍空軍靠直播就夠了 陳空軍根本跟掛了沒兩樣 10/16 14:30\n",
      "→ wurenben: 這是8月的民調吧?這幾天喊告支持者會是領先者做的事? 10/16 14:30\n",
      "→ LewisRong: 縣區韓只要盡力輸比較少+北漂全力發動也許有一絲機會 10/16 14:31\n",
      "→ liunwaiqoo: 過幾天還有韓跟沈玉琳的影片,覺得這部片可以再刷一波 10/16 14:32\n",
      "推 BossSB: 沈是攻政治冷感的族群 還有幾招是北漂部分 10/16 14:33\n",
      "推 LewisRong: 韓團隊最好拍隻廣告在選前催北漂票 拼拼看 10/16 14:33\n",
      "→ liunwaiqoo: 政治冷感的那塊市場一定還有可以挖到的票源 10/16 14:33\n",
      "推 NAGI: D不打柯的話 要先把姚文關起來吧XD 10/16 14:34\n",
      "→ liunwaiqoo: 北漂也是很重要,如果能催出10萬北漂族回來就有機會了 10/16 14:34\n",
      "推 takenostand: 閣下應該非閒雜人等，科科 10/16 14:41\n",
      "推 chucky: 合理 10/16 14:42\n",
      "推 hedonist: 推kero 10/16 14:43\n",
      "推 London2006: 推 10/16 14:44\n",
      "推 takenostand: 看來柯真的只要暗示一下就能翻盤 10/16 14:47\n",
      "推 kcclasaki: 正義溫暖三小 我大其邁現在打經濟牌啦 10/16 14:48\n",
      "推 infinitie: 柯應該是個很直的人 我大DPP砍你砍的刀刀見骨 應該不可 10/16 14:51\n",
      "→ infinitie: 能選前不打你，你就願意和他當朋友 10/16 14:51\n",
      "推 Floramom1224: 樓主有資料來源嗎 想看 10/16 14:59\n",
      "推 CjackC: 民進黨要是再敢搞事 就翻了 10/16 15:06\n",
      "推 sleepcat612: 選後柯對待DPP柯黑的態度應該會跟蘇清泉等人一樣 10/16 15:10\n",
      "推 taiwanmonkey: 前面的民調 返鄉投票的人佔3%韓就贏了 10/16 15:12\n",
      "→ taiwanmonkey: 何況民進黨開始自爆了 10/16 15:13\n",
      "推 kkkyyy: 韓總就盡力而為！打個乾淨漂亮的選戰就值了！ 10/16 15:18\n",
      "→ littleheadv: 韓其實早翻盤了 舊高雄縣路人騎士甲路過 10/16 15:25\n",
      "推 lingz1024: 加油吧衝 10/16 16:00\n",
      "推 amadda: 我也估雙方在誤差範圍，陳會小勝，但我賭盤卻買韓XDDDDD 10/16 16:12\n",
      "→ amadda: 希望韓國瑜加油一點，我的P幣就靠你回魂啦XD 10/16 16:13\n",
      "推 amadda: 我覺得高雄這一仗真的是北漂的人會覺得選票最後的答案 10/16 16:15\n",
      "→ amadda: 只是那一方能催到最多北漂回來投票才是重點 10/16 16:15\n",
      "推 zenan321: 你的分析很明確告訴我民進洞想在選票動手腳 10/16 16:16\n",
      "→ zenan321: 謝謝你善意的提醒 10/16 16:16\n",
      "推 amadda: 這次開票，希望柯韓支持者能自主去監票，很多中立公務人員 10/16 16:18\n",
      "→ amadda: 因為這次選務實在太靠么，所以不願幫忙，只好對外找人支應 10/16 16:19\n",
      "推 amadda: 如果民進黨真的想死可以儘量去惹柯，把柯徹底給惹毛試試看 10/16 16:23\n",
      "→ amadda: 柯只要幫韓說個兩句話，高雄柯粉大概都會閉眼投下去了XD 10/16 16:24\n",
      "→ herrowui: 挺柯不一定要挺韓，搞清楚\n",
      "          人數足以翻盤就好了\n",
      "※ 編輯: kero2377 (118.232.84.177), 10/16/2018 16:40:40\n",
      "噓 diaogaro: 可以大贏中國國民黨，陳情邁當選 10/16 17:23\n",
      "推 ComeAsYouAre: 柯的確是投不下車輪牌的催票機，如果柯肯站出來一乎 10/16 17:54\n",
      "→ ComeAsYouAre: ，韓就贏了 10/16 17:54\n",
      "推 ComeAsYouAre: 但如果他去幫韓，就一定得幫林，但林這白癡有總統 10/16 17:55\n",
      "→ ComeAsYouAre: 夢 10/16 17:55\n",
      "→ DanJill: 78應該還是會贏，韓小輸。但母豬黨醜態盡出，韓留下好名 10/16 19:31\n",
      "→ DanJill: 聲成為國民黨核心人物。輸了也划算，根本超值。 10/16 19:31\n",
      "→ DanJill: 我不是高雄人，高雄繼續破敗我不痛不癢 10/16 19:32\n",
      "→ DanJill: 78會贏，但贏的很難看，很丟臉 10/16 19:33\n",
      "推 segga: 還有一個月 還有機會 10/16 23:32\n",
      "推 insomeday: 韓退黨有機會嗎 10/17 20:18\n",
      "\n",
      "看板 HatePolitics\n",
      "作者 kero2377 (顆顆)\n",
      "標題 [討論] 高雄選情分析\n",
      "時間 Tue Oct 16 13:51:46 2018\n",
      "mark2165 : 推 韓加油  10/16 13:52\n",
      "\n",
      "medlife0830 : 真的要看高雄年輕朋友了  10/16 13:53\n",
      "\n",
      "liunwaiqoo : 你這預估很合理,但我仍然認為韓能以5萬票左右勝出  10/16 13:53\n",
      "\n",
      "gerund : 3F到底哪裡來的自信?  10/16 13:54\n",
      "\n",
      "npcxx : 1124滅東廠 還是要靠據說不到一萬的幽靈北漂才行  10/16 13:54\n",
      "\n",
      "liunwaiqoo : 然後你說一個月前韓穩定輸15%?9月11日 TVBS韓只輸4%耶  10/16 13:54\n",
      "\n",
      "alex8725 : 現在我相信是PK盤了  10/16 13:54\n",
      "\n",
      "alex8725 : 這數字還在誤差範圍內  10/16 13:55\n",
      "\n",
      "alex8725 : 不過陳已經開始自爆了  10/16 13:55\n",
      "\n",
      "rorobus : 韓國魚輸了=高雄人贏了  10/16 13:55\n",
      "\n",
      "liunwaiqoo : 自信來自於我自己的分析 #1RmKj4nB (HatePolitics)  10/16 13:56\n",
      "\n",
      "serv828 : 藍綠對決  10/16 13:56\n",
      "\n",
      "cafupupu : 韓國被狗幹都沒告了，78告網友不手軟  10/16 13:56\n",
      "\n",
      "zenan321 : 你不是普通人物喔，我知道這個數字是民進洞的期望值  10/16 13:57\n",
      "\n",
      "kobest : 78這個月一直在自爆 告人  我是覺得韓剩贏多贏少的問題了  10/16 13:58\n",
      "\n",
      "windwater77 : 時機邁邁投吉邁 含血含淚投dpp  10/16 13:58\n",
      "\n",
      "Zcould : 必推，言出必踐的神人  10/16 13:58\n",
      "\n",
      "zenan321 : 這次九合一的繁重選務，讓很多公務人員不願參與選務  10/16 13:58\n",
      "\n",
      "zenan321 : 樁腳派了不少人去參與  10/16 13:59\n",
      "\n",
      "ashotwa47 : 韓國瑜真的從頭輸到尾  10/16 13:59\n",
      "\n",
      "SaChiA5566 : 我也覺得現在還是吉邁領先約快20萬  10/16 13:59\n",
      "\n",
      "zenan321 : 10%裡面有8%是廢票，這把戲以前在宋楚瑜的選舉有看過  10/16 14:00\n",
      "\n",
      "caelum : 韓國瑜9月就贏了。民間各民調五五波，是加權的原因。  10/16 14:01\n",
      "\n",
      "sincsnow : kero大看來有秘密管道可以知道我們不知道的事情。  10/16 14:01\n",
      "\n",
      "elliott31533 : 請問選前會有最終版嗎 想看有沒有變化  10/16 14:01\n",
      "\n",
      "whitenoise : 原PO美麗島民調？  10/16 14:02\n",
      "\n",
      "zenan321 : 從你民進洞內部的期望值與投票率回推，我可以確定一件事  10/16 14:02\n",
      "\n",
      "liunwaiqoo : 如果你講的都是真的那北漂還真的可以決定勝負  10/16 14:03\n",
      "\n",
      "joe10337 : 64開真的合理  10/16 14:03\n",
      "\n",
      "Fed : 推! 寒郭魚跟蒸雞排上菜~  10/16 14:04\n",
      "\n",
      "mark2165 : 蘇盈貴會被棄保吧？  10/16 14:08\n",
      "\n",
      "liunwaiqoo : 周偉航：柯粉有2成5會投蘇盈貴 XDDDD  根本是笑話XD  10/16 14:08\n",
      "\n",
      "GaryCrawford : 我覺得這數字算是蠻合理的 推測  10/16 14:09\n",
      "\n",
      "talesb72232 : 推理不錯 但前提是韓國瑜目前已是最高峰  10/16 14:09\n",
      "\n",
      "BossSB : 韓目前只是開始而已 接下來都是各大社團表態  10/16 14:09\n",
      "\n",
      "powderzhon : 現在怎麼會是韓的高峰期？ 你太小看陳吉邁了  10/16 14:10\n",
      "\n",
      "newgoodman24 : 我也這麼覺得 縣區拿不下來 市區現在韓只差一塊  10/16 14:10\n",
      "\n",
      "liunwaiqoo : 我真的不覺得韓現在已經是最高峰了,還有一些未表態和  10/16 14:10\n",
      "\n",
      "BossSB : 若私心一點就公布民調 加快跳船  10/16 14:10\n",
      "\n",
      "newgoodman24 : 就是投不下去國民黨的柯粉+年輕淺綠 這塊韓拿到  10/16 14:10\n",
      "\n",
      "liunwaiqoo : 不關心政治的仍然是可以用空軍去開發出來的票源  10/16 14:10\n",
      "\n",
      "shefu120 : 剩下一個月衝刺時間決定勝負  10/16 14:11\n",
      "\n",
      "newgoodman24 : 韓就可以小贏其邁 有些人還是認為韓=KMT  10/16 14:11\n",
      "\n",
      "shefu120 : 我討厭kmt 但我覺得韓不錯  10/16 14:12\n",
      "\n",
      "leon771170 : 吸奶就是丁姚南部版 越打越抹越草包  10/16 14:12\n",
      "\n",
      "Sakurasai : 預測民調就不會有不知道了XD 上上週有接到自由的民調  10/16 14:14\n",
      "\n",
      "Sakurasai : 不知道是不是他們家的  10/16 14:14\n",
      "\n",
      "chyou2003 : 年輕柯粉根本不知道誰是蘇盈貴  10/16 14:14\n",
      "\n",
      "SoMnUs : 推 希望外地年輕人可以回去投票  10/16 14:15\n",
      "\n",
      "dogluckyno1 : 真的是選情膠著，進PK盤  10/16 14:16\n",
      "\n",
      "capirex : 縣區輸到脫褲  10/16 14:17\n",
      "\n",
      "heroandeve : 贏很多就會是台南那種選法 就是PK盤了  10/16 14:21\n",
      "\n",
      "capirex : 想問一下北市議員 民進黨會掉幾席?  10/16 14:22\n",
      "\n",
      "infinitie : 不反串 韓總打這個節骨眼 如果最終無法勝選 藍營支持者  10/16 14:22\n",
      "\n",
      "infinitie : 會嘔死或哭死 現在連北部的朋友都在聊韓勝選的可能性  10/16 14:23\n",
      "\n",
      "LewisRong : 個人覺得韓目前應該只輸20萬 還有一個月+北漂拼拼看  10/16 14:24\n",
      "\n",
      "infinitie : 因此 深藍淺藍用爬的也會出來投 剩下的 就看韓的造化了  10/16 14:24\n",
      "\n",
      "LewisRong : 但韓要講一些能撼動縣區的政策 蛋黃蛋白論太淺  10/16 14:24\n",
      "\n",
      "infinitie : 這次高雄藍軍動員能力 不亞於2008年 該醒的都醒了  10/16 14:25\n",
      "\n",
      "kero2377 : 在外頭了 先跟大家預告 D會慢慢不打柯了  10/16 14:25\n",
      "\n",
      "infinitie : 最後的關鍵 就是韓總要在縣區把落後極小化  10/16 14:25\n",
      "\n",
      "kero2377 : 怕柯使出殺手鐧讓高雄變藍天顆顆  10/16 14:26\n",
      "\n",
      "LewisRong : 要打動縣區農漁民要講得更讓人有感覺跟深入  10/16 14:26\n",
      "\n",
      "oldorch0309 : 小心被吉  10/16 14:26\n",
      "\n",
      "infinitie : 個人看法 D不打柯也不重要了 游離票早就走了  10/16 14:27\n",
      "\n",
      "LewisRong : 市區應該五五波了啦 韓最後一個月應該要進縣區轉陸戰  10/16 14:29\n",
      "\n",
      "LewisRong : 空軍空軍靠直播就夠了 陳空軍根本跟掛了沒兩樣  10/16 14:30\n",
      "\n",
      "wurenben : 這是8月的民調吧?這幾天喊告支持者會是領先者做的事?  10/16 14:30\n",
      "\n",
      "LewisRong : 縣區韓只要盡力輸比較少+北漂全力發動也許有一絲機會  10/16 14:31\n",
      "\n",
      "liunwaiqoo : 過幾天還有韓跟沈玉琳的影片,覺得這部片可以再刷一波  10/16 14:32\n",
      "\n",
      "BossSB : 沈是攻政治冷感的族群 還有幾招是北漂部分  10/16 14:33\n",
      "\n",
      "LewisRong : 韓團隊最好拍隻廣告在選前催北漂票 拼拼看  10/16 14:33\n",
      "\n",
      "liunwaiqoo : 政治冷感的那塊市場一定還有可以挖到的票源  10/16 14:33\n",
      "\n",
      "NAGI : D不打柯的話 要先把姚文關起來吧XD  10/16 14:34\n",
      "\n",
      "liunwaiqoo : 北漂也是很重要,如果能催出10萬北漂族回來就有機會了  10/16 14:34\n",
      "\n",
      "takenostand : 閣下應該非閒雜人等，科科  10/16 14:41\n",
      "\n",
      "chucky : 合理  10/16 14:42\n",
      "\n",
      "hedonist : 推kero  10/16 14:43\n",
      "\n",
      "London2006 : 推  10/16 14:44\n",
      "\n",
      "takenostand : 看來柯真的只要暗示一下就能翻盤  10/16 14:47\n",
      "\n",
      "kcclasaki : 正義溫暖三小 我大其邁現在打經濟牌啦  10/16 14:48\n",
      "\n",
      "infinitie : 柯應該是個很直的人 我大DPP砍你砍的刀刀見骨 應該不可  10/16 14:51\n",
      "\n",
      "infinitie : 能選前不打你，你就願意和他當朋友  10/16 14:51\n",
      "\n",
      "Floramom1224 : 樓主有資料來源嗎 想看  10/16 14:59\n",
      "\n",
      "CjackC : 民進黨要是再敢搞事 就翻了  10/16 15:06\n",
      "\n",
      "sleepcat612 : 選後柯對待DPP柯黑的態度應該會跟蘇清泉等人一樣  10/16 15:10\n",
      "\n",
      "taiwanmonkey : 前面的民調 返鄉投票的人佔3%韓就贏了  10/16 15:12\n",
      "\n",
      "taiwanmonkey : 何況民進黨開始自爆了  10/16 15:13\n",
      "\n",
      "kkkyyy : 韓總就盡力而為！打個乾淨漂亮的選戰就值了！  10/16 15:18\n",
      "\n",
      "littleheadv : 韓其實早翻盤了 舊高雄縣路人騎士甲路過  10/16 15:25\n",
      "\n",
      "lingz1024 : 加油吧衝  10/16 16:00\n",
      "\n",
      "amadda : 我也估雙方在誤差範圍，陳會小勝，但我賭盤卻買韓XDDDDD  10/16 16:12\n",
      "\n",
      "amadda : 希望韓國瑜加油一點，我的P幣就靠你回魂啦XD  10/16 16:13\n",
      "\n",
      "amadda : 我覺得高雄這一仗真的是北漂的人會覺得選票最後的答案  10/16 16:15\n",
      "\n",
      "amadda : 只是那一方能催到最多北漂回來投票才是重點  10/16 16:15\n",
      "\n",
      "zenan321 : 你的分析很明確告訴我民進洞想在選票動手腳  10/16 16:16\n",
      "\n",
      "zenan321 : 謝謝你善意的提醒  10/16 16:16\n",
      "\n",
      "amadda : 這次開票，希望柯韓支持者能自主去監票，很多中立公務人員  10/16 16:18\n",
      "\n",
      "amadda : 因為這次選務實在太靠么，所以不願幫忙，只好對外找人支應  10/16 16:19\n",
      "\n",
      "amadda : 如果民進黨真的想死可以儘量去惹柯，把柯徹底給惹毛試試看  10/16 16:23\n",
      "\n",
      "amadda : 柯只要幫韓說個兩句話，高雄柯粉大概都會閉眼投下去了XD  10/16 16:24\n",
      "\n",
      "diaogaro : 可以大贏中國國民黨，陳情邁當選  10/16 17:23\n",
      "\n",
      "ComeAsYouAre : 柯的確是投不下車輪牌的催票機，如果柯肯站出來一乎  10/16 17:54\n",
      "\n",
      "ComeAsYouAre : ，韓就贏了  10/16 17:54\n",
      "\n",
      "ComeAsYouAre : 但如果他去幫韓，就一定得幫林，但林這白癡有總統  10/16 17:55\n",
      "\n",
      "ComeAsYouAre : 夢  10/16 17:55\n",
      "\n",
      "DanJill : 78應該還是會贏，韓小輸。但母豬黨醜態盡出，韓留下好名  10/16 19:31\n",
      "\n",
      "DanJill : 聲成為國民黨核心人物。輸了也划算，根本超值。  10/16 19:31\n",
      "\n",
      "DanJill : 我不是高雄人，高雄繼續破敗我不痛不癢  10/16 19:32\n",
      "\n",
      "DanJill : 78會贏，但贏的很難看，很丟臉  10/16 19:33\n",
      "\n",
      "segga : 還有一個月 還有機會  10/16 23:32\n",
      "\n",
      "insomeday : 韓退黨有機會嗎  10/17 20:18\n",
      "\n",
      "<div class=\"bbs-screen bbs-content\" id=\"main-content\">\n",
      "等等要出門了 趁著還有一些空檔 就不富奸了\n",
      "\n",
      "\n",
      "帶來眾所矚目的高雄選情\n",
      "\n",
      "\n",
      "高雄是由\n",
      "\n",
      "\n",
      "正義 溫暖  臉書擁有國際粉絲的巨星  陳其邁\n",
      "\n",
      "\n",
      "\n",
      "與\n",
      "\n",
      "\n",
      "黑道 色情狂 北部菜蟲王  獎金發太多的散財童子  跟著月亮走的北農ceo韓國瑜\n",
      "\n",
      "\n",
      "\n",
      ".... 乾  我不會被吉吧   國瑜  我都是看電視學來的 母湯針對\n",
      "\n",
      "\n",
      "\n",
      "進入正題吧\n",
      "\n",
      "\n",
      "\n",
      "\n",
      "  \n",
      "\n",
      "\n",
      "  43.5\n",
      "\n",
      "\n",
      "不知道/沒意見     10.8\n",
      "\n",
      "\n",
      "\n",
      "猶如各位所見  真的很膠著 .\n",
      "\n",
      "\n",
      "但韓國瑜在這三個禮拜追的速度非常的 非常的  驚人\n",
      "\n",
      "\n",
      "在一個月以前他是穩定輸15%的  而在做了館長直播後  更加的追近了\n",
      "\n",
      "\n",
      "但韓粉們也不能過於樂觀  畢竟現在是韓國瑜的名望高峰期  但還是壓不倒陳其邁\n",
      "\n",
      "\n",
      "主要是深綠區太穩固了  市區已經轉韓.  而不知道或沒意見的區塊 研判也是陳其邁居多\n",
      "\n",
      "\n",
      "所以目前陳其邁還是贏在3-5%之間的  所以以我個人的經驗分析\n",
      "\n",
      "\n",
      "陳其邁應該會以微小票數勝出  除非外地的年輕人非常的carry 把我們韓總推上市長大位\n",
      "\n",
      "\n",
      "否則綠地的機率 應還是超過六成  就看這個月韓總能帶給我們甚麼樣的內容了\n",
      "\n",
      "\n",
      "----\n",
      "\n",
      "\n",
      "北市選情分析  <a href=\"/bbs/HatePolitics/M.1539663640.A.B17.html\" rel=\"nofollow\" target=\"_blank\">#1RnMSOiN</a>\n",
      "\n",
      "\n",
      "\n",
      "--\n",
      "          \n",
      "           \n",
      "                               你得到他了. 我認為只要柯 暗示一下  Maybe .. 空襲警報就響了\n",
      "</div>\n"
     ]
    }
   ],
   "source": [
    "import requests\n",
    "from bs4 import BeautifulSoup\n",
    "\n",
    "res = requests.get('https://www.ptt.cc/bbs/HatePolitics/M.1539669111.A.B2D.html')\n",
    "soup = BeautifulSoup(res.text)\n",
    "mainContent = soup.find(name = 'div',attrs={\"class\":\"bbs-screen bbs-content\"})\n",
    "#print(mainContent)\n",
    "content = mainContent.text\n",
    "print(content)\n",
    "\n",
    "\n",
    "board_meta = mainContent.find(name = 'div',attrs={\"class\":\"article-metaline-right\"})\n",
    "#print(board_meta)\n",
    "board_tag = board_meta.find(name = 'span',attrs={\"class\":\"article-meta-tag\"}).text\n",
    "board_value = board_meta.find(name = 'span',attrs={\"class\":\"article-meta-value\"}).text\n",
    "print(board_tag,board_value)\n",
    "\n",
    "article_meta = mainContent.find_all(name = 'div',attrs={\"class\":\"article-metaline\"})\n",
    "\n",
    "#get meta-data\n",
    "for item in article_meta:\n",
    "    meta_tag = item.find(name = 'span',attrs={\"class\":\"article-meta-tag\"}).text\n",
    "    meta_value =  item.find(name = 'span',attrs={\"class\":\"article-meta-value\"}).text\n",
    "    print(meta_tag,meta_value)\n",
    "    \n",
    " \n",
    "    \n",
    "feebackList = mainContent.find_all(name = 'div',attrs={\"class\":\"push\"})\n",
    "for feeback in feebackList:\n",
    "     push_userId= feeback.find(name ='span',attrs={\"class\":\"f3 hl push-userid\"}).text\n",
    "     push_content = feeback.find(name='span',attrs={\"class\":\"f3 push-content\"}).text\n",
    "     push_time = feeback.find(name='span',attrs={\"class\":\"push-ipdatetime\"}).text\n",
    "     print(push_userId,push_content,push_time )\n",
    "    \n",
    "for remove in mainContent(['span','div']):\n",
    "     remove.decompose()\n",
    "\n",
    "print(mainContent)"
   ]
  },
  {
   "cell_type": "markdown",
   "metadata": {},
   "source": [
    "####  1.4.5  Example-5 抓取Pixnet相簿圖片"
   ]
  },
  {
   "cell_type": "code",
   "execution_count": null,
   "metadata": {
    "collapsed": true
   },
   "outputs": [],
   "source": [
    "import requests\n",
    "from bs4 import BeautifulSoup\n",
    "import os\n",
    "import urllib.request\n",
    "\n",
    "\n",
    "with open('/home/user/Code/PIXNETPhoto_list',\"r\") as f:\n",
    "    lines = f.readline()\n",
    "    print (lines)    \n",
    "    url = lines\n",
    "    folderName = url.replace('.pixnet.net/album/list','').replace('http://','')\n",
    "    print(folderName)\n",
    "\n",
    "    folderPath = '/home/user/Code/'+folderName\n",
    "\n",
    "    if not os.path.exists(folderPath) :\n",
    "        os.mkdir(folderPath)\n",
    "\n",
    "    source = requests.get(url)\n",
    "\n",
    "    soup = BeautifulSoup(source.text,'html.parser')\n",
    "    content = soup.findAll(\"div\", {\"class\": \"grid-photo\"})\n",
    "    for item in content:\n",
    "        href = item.a\n",
    "        if href != None:\n",
    "            href=item.find('a')['href']\n",
    "            if 'album' in href :                \n",
    "                source = requests.get(href)\n",
    "                soup = BeautifulSoup(source.text,'html.parser')\n",
    "                content = soup.findAll(\"a\", {\"class\": \"photolink\"}) \n",
    "                for item in content:\n",
    "                    savePath = folderPath+'/'\n",
    "                    \n",
    "                    if 'pic.pimg.tw' in item.img['src']:\n",
    "                        print (savePath)\n",
    "                        img = item.img['src'].replace('_s.jpg','.jpg')\n",
    "                        print(img)                    \n",
    "                        filename = img.split('/')\n",
    "                        fileName =filename[4].split('-')\n",
    "                        print(fileName[0]+\"-download finish!\")                    \n",
    "                        savePath = savePath+fileName[0]    \n",
    "                        urllib.request.urlretrieve(img,savePath)"
   ]
  },
  {
   "cell_type": "markdown",
   "metadata": {},
   "source": [
    "### 2. Selenium"
   ]
  },
  {
   "cell_type": "markdown",
   "metadata": {},
   "source": [
    "#### 2.1 安裝套件\n",
    "* Python 2+ : pip install selenium\n",
    "* Python 3+ : pip3 install selenium\n",
    "* Install Chrome WebDriver : sudo apt-get install chromium-chromedriver"
   ]
  },
  {
   "cell_type": "markdown",
   "metadata": {},
   "source": [
    "#### 2.2 Selenium基本操作"
   ]
  },
  {
   "cell_type": "markdown",
   "metadata": {},
   "source": [
    "##### 2.2.1 引用套件"
   ]
  },
  {
   "cell_type": "code",
   "execution_count": 4,
   "metadata": {
    "collapsed": true
   },
   "outputs": [],
   "source": [
    "from selenium import webdriver"
   ]
  },
  {
   "cell_type": "markdown",
   "metadata": {},
   "source": [
    "##### 2.2.2 啟動瀏覽器"
   ]
  },
  {
   "cell_type": "code",
   "execution_count": 5,
   "metadata": {
    "collapsed": true
   },
   "outputs": [],
   "source": [
    "driver = webdriver.Chrome()\n",
    "#driver = webdriver.Chrome('/usr/lib/chromium-browser/chromedriver')"
   ]
  },
  {
   "cell_type": "code",
   "execution_count": 6,
   "metadata": {
    "collapsed": true
   },
   "outputs": [],
   "source": [
    "#設定視窗最大化\n",
    "driver.maximize_window()"
   ]
  },
  {
   "cell_type": "code",
   "execution_count": 7,
   "metadata": {
    "collapsed": true
   },
   "outputs": [],
   "source": [
    "url = 'http://www.google.com'\n",
    "driver.get(url)"
   ]
  },
  {
   "cell_type": "code",
   "execution_count": 8,
   "metadata": {},
   "outputs": [
    {
     "data": {
      "text/plain": [
       "'https://www.google.com/?gws_rd=ssl'"
      ]
     },
     "execution_count": 8,
     "metadata": {},
     "output_type": "execute_result"
    }
   ],
   "source": [
    "#回傳目前的網址\n",
    "driver.current_url "
   ]
  },
  {
   "cell_type": "code",
   "execution_count": 9,
   "metadata": {},
   "outputs": [
    {
     "data": {
      "text/plain": [
       "'Google'"
      ]
     },
     "execution_count": 9,
     "metadata": {},
     "output_type": "execute_result"
    }
   ],
   "source": [
    "#回傳目前的網頁標題\n",
    "driver.title "
   ]
  },
  {
   "cell_type": "code",
   "execution_count": 10,
   "metadata": {
    "collapsed": true
   },
   "outputs": [],
   "source": [
    "# 網頁重新整理\n",
    "driver.refresh()"
   ]
  },
  {
   "cell_type": "code",
   "execution_count": null,
   "metadata": {
    "collapsed": true
   },
   "outputs": [],
   "source": []
  },
  {
   "cell_type": "code",
   "execution_count": null,
   "metadata": {
    "collapsed": true
   },
   "outputs": [],
   "source": [
    "driver.save_screenshot('pic/screen.png')  # 儲存截圖 save_screenshot()"
   ]
  },
  {
   "cell_type": "markdown",
   "metadata": {},
   "source": [
    "##### 2.2.3 關閉瀏覽器"
   ]
  },
  {
   "cell_type": "code",
   "execution_count": 121,
   "metadata": {
    "collapsed": true
   },
   "outputs": [],
   "source": [
    "driver.close() #關閉目前視窗\n",
    "#driver.quit() #關閉所有視窗,並退出Driver"
   ]
  },
  {
   "cell_type": "markdown",
   "metadata": {},
   "source": [
    "##### 2.3 元素定位"
   ]
  },
  {
   "cell_type": "markdown",
   "metadata": {},
   "source": [
    "<B> By id</B>"
   ]
  },
  {
   "cell_type": "code",
   "execution_count": null,
   "metadata": {
    "collapsed": true
   },
   "outputs": [],
   "source": [
    "# <div id=\"aaa\">...</div>"
   ]
  },
  {
   "cell_type": "code",
   "execution_count": null,
   "metadata": {
    "collapsed": true
   },
   "outputs": [],
   "source": [
    "driver.find_element_by_id(\"aaa\")\n",
    "driver.find_elements_by_id(\"aaa\")"
   ]
  },
  {
   "cell_type": "code",
   "execution_count": null,
   "metadata": {
    "collapsed": true
   },
   "outputs": [],
   "source": [
    "from selenium.webdriver.common.by import By\n",
    "driver.find_element(By.ID, \"aaa\")\n",
    "driver.find_elements(By.ID, \"aaa\")"
   ]
  },
  {
   "cell_type": "markdown",
   "metadata": {},
   "source": [
    "<B> Class Name </B>"
   ]
  },
  {
   "cell_type": "code",
   "execution_count": 11,
   "metadata": {
    "collapsed": true
   },
   "outputs": [],
   "source": [
    "#<div class=\"myclass\">...</div>"
   ]
  },
  {
   "cell_type": "code",
   "execution_count": null,
   "metadata": {
    "collapsed": true
   },
   "outputs": [],
   "source": [
    "driver.find_element_by_class_name(\"myclass\")\n",
    "driver.find_elements_by_class_name(\"myclass\")"
   ]
  },
  {
   "cell_type": "code",
   "execution_count": null,
   "metadata": {
    "collapsed": true
   },
   "outputs": [],
   "source": [
    "from selenium.webdriver.common.by import By\n",
    "driver.find_element(By.CLASS_NAME, \"myclass\")\n",
    "driver.find_elements(By.CLASS_NAME, \"myclass\")"
   ]
  },
  {
   "cell_type": "markdown",
   "metadata": {},
   "source": [
    "#### By Tag Name"
   ]
  },
  {
   "cell_type": "code",
   "execution_count": null,
   "metadata": {
    "collapsed": true
   },
   "outputs": [],
   "source": [
    "#<a href=\"...\"></a>"
   ]
  },
  {
   "cell_type": "code",
   "execution_count": null,
   "metadata": {
    "collapsed": true
   },
   "outputs": [],
   "source": [
    "driver.find_element_by_tag_name(\"a\")\n",
    "driver.find_elements_by_tag_name(\"a\")"
   ]
  },
  {
   "cell_type": "code",
   "execution_count": null,
   "metadata": {
    "collapsed": true
   },
   "outputs": [],
   "source": [
    "from selenium.webdriver.common.by import By\n",
    "driver.find_element(By.TAG_NAME, \"a\")\n",
    "driver.find_elements(By.TAG_NAME, \"a\")"
   ]
  },
  {
   "cell_type": "markdown",
   "metadata": {},
   "source": [
    "#### By Name"
   ]
  },
  {
   "cell_type": "code",
   "execution_count": 111,
   "metadata": {
    "collapsed": true
   },
   "outputs": [],
   "source": [
    "#<div name=\"abc\">...</div>"
   ]
  },
  {
   "cell_type": "code",
   "execution_count": null,
   "metadata": {
    "collapsed": true
   },
   "outputs": [],
   "source": [
    "driver.find_element_by_name(\"abc\")\n",
    "driver.find_elements_by_name(\"abc\")"
   ]
  },
  {
   "cell_type": "code",
   "execution_count": null,
   "metadata": {
    "collapsed": true
   },
   "outputs": [],
   "source": [
    "from selenium.webdriver.common.by import By\n",
    "driver.find_element(By.NAME, \"abc\")\n",
    "driver.find_elements(By.NAME, \"abc\")"
   ]
  },
  {
   "cell_type": "markdown",
   "metadata": {},
   "source": [
    "#### By CSS"
   ]
  },
  {
   "cell_type": "code",
   "execution_count": null,
   "metadata": {
    "collapsed": true
   },
   "outputs": [],
   "source": [
    "#<div id=\"area\"><span class=\"location\">abc</span></div>"
   ]
  },
  {
   "cell_type": "code",
   "execution_count": null,
   "metadata": {
    "collapsed": true
   },
   "outputs": [],
   "source": [
    "driver.find_element_by_css_selector(\"#area span.location\")\n",
    "driver.find_elements_by_css_selector(\"#area span.location\")"
   ]
  },
  {
   "cell_type": "code",
   "execution_count": null,
   "metadata": {
    "collapsed": true
   },
   "outputs": [],
   "source": [
    "from selenium.webdriver.common.by import By\n",
    "driver.find_element(\"#area span.location\")\n",
    "driver.find_elements(\"#area span.location\")"
   ]
  },
  {
   "cell_type": "markdown",
   "metadata": {},
   "source": [
    "#### By Link Text"
   ]
  },
  {
   "cell_type": "code",
   "execution_count": null,
   "metadata": {
    "collapsed": true
   },
   "outputs": [],
   "source": [
    "#<a href=\"http://www.google.com/search?q=iphone\">iphone</a>>"
   ]
  },
  {
   "cell_type": "code",
   "execution_count": null,
   "metadata": {
    "collapsed": true
   },
   "outputs": [],
   "source": [
    "driver.find_element_by_link_text(\"iphone\")\n",
    "driver.find_elements_by_link_text(\"iphone\")"
   ]
  },
  {
   "cell_type": "code",
   "execution_count": null,
   "metadata": {
    "collapsed": true
   },
   "outputs": [],
   "source": [
    "from selenium.webdriver.common.by import By\n",
    "driver.find_element(By.LINK_TEXT, \"iphone\")\n",
    "driver.find_elements(BY.LINK_TEXT, \"iphone\")"
   ]
  },
  {
   "cell_type": "markdown",
   "metadata": {},
   "source": [
    "#### By Partial Link Text"
   ]
  },
  {
   "cell_type": "code",
   "execution_count": null,
   "metadata": {
    "collapsed": true
   },
   "outputs": [],
   "source": [
    "#<a href=\"http://www.google.com/search?q=iphone\">iphone</a>>"
   ]
  },
  {
   "cell_type": "code",
   "execution_count": null,
   "metadata": {
    "collapsed": true
   },
   "outputs": [],
   "source": [
    "driver.find_element_by_partial_link_text(\"phone\")\n",
    "driver.find_elements_by_partial_link_text(\"phone\")"
   ]
  },
  {
   "cell_type": "code",
   "execution_count": null,
   "metadata": {
    "collapsed": true
   },
   "outputs": [],
   "source": [
    "from selenium.webdriver.common.by import By\n",
    "driver.find_element(By.PARTIAL_LINK_TEXT, \"phone\")\n",
    "driver.find_elements(By.PARTIAL_LINK_TEXT, \"phone\")"
   ]
  },
  {
   "cell_type": "markdown",
   "metadata": {},
   "source": [
    "#### By XPATH"
   ]
  },
  {
   "cell_type": "code",
   "execution_count": null,
   "metadata": {
    "collapsed": true
   },
   "outputs": [],
   "source": [
    "#<input type=\"text\" name=\"abc\" />"
   ]
  },
  {
   "cell_type": "code",
   "execution_count": null,
   "metadata": {
    "collapsed": true
   },
   "outputs": [],
   "source": [
    "driver.find_element_by_xpath(\"//input\")\n",
    "driver.find_elements_by_xpath(\"//input\")"
   ]
  },
  {
   "cell_type": "code",
   "execution_count": null,
   "metadata": {
    "collapsed": true
   },
   "outputs": [],
   "source": [
    "from selenium.webdriver.common.by import By\n",
    "driver.find_element(By.XPATH, \"//input\")\n",
    "driver.find_elements(By.XPATH, \"//input\")"
   ]
  },
  {
   "cell_type": "markdown",
   "metadata": {},
   "source": [
    "##### 2.4 常用Action"
   ]
  },
  {
   "cell_type": "markdown",
   "metadata": {},
   "source": [
    "* .send_keys('XXX') : 輸入框輸入內容"
   ]
  },
  {
   "cell_type": "markdown",
   "metadata": {},
   "source": [
    "* .click() : 點擊"
   ]
  },
  {
   "cell_type": "markdown",
   "metadata": {},
   "source": [
    "* .get_attribute(name) : 得到特定屬性的值"
   ]
  },
  {
   "cell_type": "markdown",
   "metadata": {},
   "source": [
    "* clear() :清除輸入的內容"
   ]
  },
  {
   "cell_type": "markdown",
   "metadata": {},
   "source": [
    "* location :回傳元素位置"
   ]
  },
  {
   "cell_type": "markdown",
   "metadata": {},
   "source": [
    "* submit() : 提交內容 (Form)"
   ]
  },
  {
   "cell_type": "markdown",
   "metadata": {},
   "source": [
    "#### 2.5 Example 8591"
   ]
  },
  {
   "cell_type": "code",
   "execution_count": 149,
   "metadata": {
    "collapsed": true
   },
   "outputs": [],
   "source": [
    "from selenium import webdriver\n",
    "from selenium.webdriver.common.keys import Keys\n",
    "from selenium.webdriver.common.by import By"
   ]
  },
  {
   "cell_type": "code",
   "execution_count": 150,
   "metadata": {
    "collapsed": true
   },
   "outputs": [],
   "source": [
    "driver = webdriver.Chrome()"
   ]
  },
  {
   "cell_type": "code",
   "execution_count": 151,
   "metadata": {
    "collapsed": true
   },
   "outputs": [],
   "source": [
    "driver.get('https://www.591.com.tw/')"
   ]
  },
  {
   "cell_type": "code",
   "execution_count": 152,
   "metadata": {},
   "outputs": [
    {
     "data": {
      "text/plain": [
       "<selenium.webdriver.remote.webelement.WebElement (session=\"4cd87efff055c0f28741c72ae33e476d\", element=\"0.5744800835105888-1\")>"
      ]
     },
     "execution_count": 152,
     "metadata": {},
     "output_type": "execute_result"
    }
   ],
   "source": [
    "driver.find_element_by_id('auto-search-input')"
   ]
  },
  {
   "cell_type": "code",
   "execution_count": 153,
   "metadata": {
    "collapsed": true
   },
   "outputs": [],
   "source": [
    "a = driver.find_element_by_id('auto-search-input')"
   ]
  },
  {
   "cell_type": "code",
   "execution_count": 154,
   "metadata": {},
   "outputs": [
    {
     "data": {
      "text/plain": [
       "'auto-search-input ie-color'"
      ]
     },
     "execution_count": 154,
     "metadata": {},
     "output_type": "execute_result"
    }
   ],
   "source": [
    "a.get_attribute(\"class\")"
   ]
  },
  {
   "cell_type": "code",
   "execution_count": 155,
   "metadata": {},
   "outputs": [
    {
     "data": {
      "text/plain": [
       "{'x': 184, 'y': 280}"
      ]
     },
     "execution_count": 155,
     "metadata": {},
     "output_type": "execute_result"
    }
   ],
   "source": [
    "a.location"
   ]
  },
  {
   "cell_type": "code",
   "execution_count": 156,
   "metadata": {
    "collapsed": true
   },
   "outputs": [],
   "source": [
    "driver.find_element_by_id('auto-search-input').send_keys('竹東')"
   ]
  },
  {
   "cell_type": "code",
   "execution_count": 157,
   "metadata": {
    "collapsed": true
   },
   "outputs": [],
   "source": [
    "driver.find_element_by_id('auto-search-input').clear()"
   ]
  },
  {
   "cell_type": "code",
   "execution_count": 158,
   "metadata": {
    "collapsed": true
   },
   "outputs": [],
   "source": [
    "driver.find_element_by_id('auto-search-input').send_keys('竹北')"
   ]
  },
  {
   "cell_type": "code",
   "execution_count": 159,
   "metadata": {
    "collapsed": true
   },
   "outputs": [],
   "source": [
    "driver.find_element_by_id('auto-search-input').send_keys(Keys.ENTER)"
   ]
  },
  {
   "cell_type": "code",
   "execution_count": 160,
   "metadata": {
    "collapsed": true
   },
   "outputs": [],
   "source": [
    "driver.find_element_by_xpath('//*[@id=\"search-location\"]/span[1]/i').click()"
   ]
  },
  {
   "cell_type": "code",
   "execution_count": 161,
   "metadata": {
    "collapsed": true
   },
   "outputs": [],
   "source": [
    "driver.find_element_by_link_text('新竹縣').click()"
   ]
  },
  {
   "cell_type": "code",
   "execution_count": 162,
   "metadata": {
    "collapsed": true
   },
   "outputs": [],
   "source": [
    "driver.find_element_by_xpath('//*[@id=\"optionBox\"]/li[3]/label/span').click()"
   ]
  },
  {
   "cell_type": "code",
   "execution_count": 163,
   "metadata": {
    "collapsed": true
   },
   "outputs": [],
   "source": [
    "driver.find_element_by_xpath('//*[@id=\"optionBox\"]/li[1]/label/span').click()"
   ]
  },
  {
   "cell_type": "code",
   "execution_count": 164,
   "metadata": {
    "collapsed": true
   },
   "outputs": [],
   "source": [
    "driver.find_element_by_link_text('獨立套房').click()"
   ]
  },
  {
   "cell_type": "code",
   "execution_count": 165,
   "metadata": {
    "collapsed": true
   },
   "outputs": [],
   "source": [
    "driver.find_element_by_xpath('//*[@id=\"search-price\"]/span[3]').click()"
   ]
  },
  {
   "cell_type": "code",
   "execution_count": 166,
   "metadata": {
    "collapsed": true
   },
   "outputs": [],
   "source": [
    "driver.find_element_by_xpath('//*[@id=\"search-plain\"]/span[2]').click()"
   ]
  },
  {
   "cell_type": "code",
   "execution_count": 167,
   "metadata": {},
   "outputs": [
    {
     "name": "stdout",
     "output_type": "stream",
     "text": [
      "https://rent.591.com.tw/?kind=2&type=1&region=5&rentprice=2&section=54,55&area=0,10\n"
     ]
    }
   ],
   "source": [
    "print(driver.current_url)"
   ]
  },
  {
   "cell_type": "code",
   "execution_count": 168,
   "metadata": {
    "collapsed": true
   },
   "outputs": [],
   "source": [
    "driver.find_element_by_partial_link_text('三民路').click()"
   ]
  },
  {
   "cell_type": "code",
   "execution_count": 170,
   "metadata": {
    "collapsed": true
   },
   "outputs": [],
   "source": [
    "target = driver.find_elements_by_partial_link_text('飯店')"
   ]
  },
  {
   "cell_type": "code",
   "execution_count": 172,
   "metadata": {
    "collapsed": true
   },
   "outputs": [],
   "source": [
    "for item in target :\n",
    "    item.click()"
   ]
  },
  {
   "cell_type": "code",
   "execution_count": null,
   "metadata": {
    "collapsed": true
   },
   "outputs": [],
   "source": []
  }
 ],
 "metadata": {
  "kernelspec": {
   "display_name": "Python 3",
   "language": "python",
   "name": "python3"
  },
  "language_info": {
   "codemirror_mode": {
    "name": "ipython",
    "version": 3
   },
   "file_extension": ".py",
   "mimetype": "text/x-python",
   "name": "python",
   "nbconvert_exporter": "python",
   "pygments_lexer": "ipython3",
   "version": "3.6.1"
  }
 },
 "nbformat": 4,
 "nbformat_minor": 2
}
